{
 "cells": [
  {
   "cell_type": "markdown",
   "metadata": {
    "id": "absent-counter"
   },
   "source": [
    "# 1. Предобработка\n",
    "\n",
    "\n",
    "Выберите набор данных из списка в конце задания. Обработайте данные в нём:\n",
    "\n",
    "1. Обработайте недостающие данные в датасете - удалить/заменить/etc, обоснуйте своё решение\n",
    "1. Постройте как минимум по 1 графику каждого типа из представленных на лекции. Для каждого построенного графика объясните почему отображённые данные лучше всего представимы именно этим типом графика\n",
    "1. Сохраните датасет\n",
    "\n",
    "\n",
    "1. Создайте новую колонку, отображающую характеристику набора данных. Новая колонка должна обладать смысловой нагрузкой. \n",
    "\n",
    "    Например, для набора данных о прямоугольниках с двумя колонками width и height будет корректно придумать колонку perimeter или area, равную width * height. Некорректно будет придумать колонку width2, равную width * 2, потому что эта информация не будет нести полезную информацию о фигурах\n",
    "\n",
    "Не оценивается баллами, но даёт очки уважения:\n",
    "1. Выдвиньте 2 гипотезы о данных. Например, для датасета codeforces достаточно интересной гипотезой может быть \"простые задачи (рейтинг меньше 1500) почти всегда решаются больше 5000 раз\"\n",
    "\n",
    "\n",
    "Наборы данных:\n",
    "\n",
    "1. [Spotify Tracks DB](https://www.kaggle.com/zaheenhamidani/ultimate-spotify-tracks-db) - характеристики треков в spotify\n",
    "1. [VKontakte Dataset of Users' Textual Data](https://www.kaggle.com/oldaandozerskaya/vkontakte-dataset-of-users-textual-data) 1. основная информация 10к профилей ВК\n",
    "1. [Data Science for COVID-19](https://www.kaggle.com/kimjihoo/coronavirusdataset) - информация о распространении коронавируса в Южной Корее в 2020 году\n",
    "1. [Dota 2 - Pro Players Matches Results 2019 ~ 2021](https://www.kaggle.com/devinanzelmo/dota-2-matches?select=player_ratings.csv) - информация матчей игроков DoTA 2. Если данные не влезают в память, можно воспользоваться [аналогом pandas](https://dask.org/) для обработки вне RAM\n",
    "1. [GPS Data of Seabirds](https://www.kaggle.com/saurabhshahane/predicting-animal-behavior-using-gps) - данные о миграции птиц\n",
    "1. [FAANG Historical Stock Price Data](https://www.kaggle.com/specter7/amazon-amzn-historical-stock-price-data) -  данные о биржевых котировках компаний FAANG c 2016 по 2021 год\n",
    "1. [NBA 2k20 player dataset](https://www.kaggle.com/isaienkov/nba2k20-player-dataset) - информация об игроках NBA\n",
    "1. [Anime dataset](https://www.kaggle.com/thunderz/anime-dataset?select=user_data.csv) - данные о просмотре аниме пользователями с сайта myAnimeList"
   ]
  },
  {
   "cell_type": "code",
   "execution_count": 1,
   "metadata": {},
   "outputs": [],
   "source": [
    "import pandas as pd\n",
    "import numpy as np"
   ]
  },
  {
   "cell_type": "code",
   "execution_count": 2,
   "metadata": {},
   "outputs": [],
   "source": [
    "file_name = \"SpotifyFeatures.csv\""
   ]
  },
  {
   "cell_type": "code",
   "execution_count": 3,
   "metadata": {
    "scrolled": false
   },
   "outputs": [
    {
     "data": {
      "text/html": [
       "<div>\n",
       "<style scoped>\n",
       "    .dataframe tbody tr th:only-of-type {\n",
       "        vertical-align: middle;\n",
       "    }\n",
       "\n",
       "    .dataframe tbody tr th {\n",
       "        vertical-align: top;\n",
       "    }\n",
       "\n",
       "    .dataframe thead th {\n",
       "        text-align: right;\n",
       "    }\n",
       "</style>\n",
       "<table border=\"1\" class=\"dataframe\">\n",
       "  <thead>\n",
       "    <tr style=\"text-align: right;\">\n",
       "      <th></th>\n",
       "      <th>genre</th>\n",
       "      <th>artist_name</th>\n",
       "      <th>track_name</th>\n",
       "      <th>track_id</th>\n",
       "      <th>popularity</th>\n",
       "      <th>acousticness</th>\n",
       "      <th>danceability</th>\n",
       "      <th>duration_ms</th>\n",
       "      <th>energy</th>\n",
       "      <th>instrumentalness</th>\n",
       "      <th>key</th>\n",
       "      <th>liveness</th>\n",
       "      <th>loudness</th>\n",
       "      <th>mode</th>\n",
       "      <th>speechiness</th>\n",
       "      <th>tempo</th>\n",
       "      <th>time_signature</th>\n",
       "      <th>valence</th>\n",
       "    </tr>\n",
       "  </thead>\n",
       "  <tbody>\n",
       "    <tr>\n",
       "      <th>0</th>\n",
       "      <td>Movie</td>\n",
       "      <td>Henri Salvador</td>\n",
       "      <td>C'est beau de faire un Show</td>\n",
       "      <td>0BRjO6ga9RKCKjfDqeFgWV</td>\n",
       "      <td>0</td>\n",
       "      <td>0.611</td>\n",
       "      <td>0.389</td>\n",
       "      <td>99373</td>\n",
       "      <td>0.910</td>\n",
       "      <td>0.000</td>\n",
       "      <td>C#</td>\n",
       "      <td>0.3460</td>\n",
       "      <td>-1.828</td>\n",
       "      <td>Major</td>\n",
       "      <td>0.0525</td>\n",
       "      <td>166.969</td>\n",
       "      <td>4/4</td>\n",
       "      <td>0.814</td>\n",
       "    </tr>\n",
       "    <tr>\n",
       "      <th>1</th>\n",
       "      <td>Movie</td>\n",
       "      <td>Martin &amp; les fées</td>\n",
       "      <td>Perdu d'avance (par Gad Elmaleh)</td>\n",
       "      <td>0BjC1NfoEOOusryehmNudP</td>\n",
       "      <td>1</td>\n",
       "      <td>0.246</td>\n",
       "      <td>0.590</td>\n",
       "      <td>137373</td>\n",
       "      <td>0.737</td>\n",
       "      <td>0.000</td>\n",
       "      <td>F#</td>\n",
       "      <td>0.1510</td>\n",
       "      <td>-5.559</td>\n",
       "      <td>Minor</td>\n",
       "      <td>0.0868</td>\n",
       "      <td>174.003</td>\n",
       "      <td>4/4</td>\n",
       "      <td>0.816</td>\n",
       "    </tr>\n",
       "    <tr>\n",
       "      <th>2</th>\n",
       "      <td>Movie</td>\n",
       "      <td>Joseph Williams</td>\n",
       "      <td>Don't Let Me Be Lonely Tonight</td>\n",
       "      <td>0CoSDzoNIKCRs124s9uTVy</td>\n",
       "      <td>3</td>\n",
       "      <td>0.952</td>\n",
       "      <td>0.663</td>\n",
       "      <td>170267</td>\n",
       "      <td>0.131</td>\n",
       "      <td>0.000</td>\n",
       "      <td>C</td>\n",
       "      <td>0.1030</td>\n",
       "      <td>-13.879</td>\n",
       "      <td>Minor</td>\n",
       "      <td>0.0362</td>\n",
       "      <td>99.488</td>\n",
       "      <td>5/4</td>\n",
       "      <td>0.368</td>\n",
       "    </tr>\n",
       "    <tr>\n",
       "      <th>3</th>\n",
       "      <td>Movie</td>\n",
       "      <td>Henri Salvador</td>\n",
       "      <td>Dis-moi Monsieur Gordon Cooper</td>\n",
       "      <td>0Gc6TVm52BwZD07Ki6tIvf</td>\n",
       "      <td>0</td>\n",
       "      <td>0.703</td>\n",
       "      <td>0.240</td>\n",
       "      <td>152427</td>\n",
       "      <td>0.326</td>\n",
       "      <td>0.000</td>\n",
       "      <td>C#</td>\n",
       "      <td>0.0985</td>\n",
       "      <td>-12.178</td>\n",
       "      <td>Major</td>\n",
       "      <td>0.0395</td>\n",
       "      <td>171.758</td>\n",
       "      <td>4/4</td>\n",
       "      <td>0.227</td>\n",
       "    </tr>\n",
       "    <tr>\n",
       "      <th>4</th>\n",
       "      <td>Movie</td>\n",
       "      <td>Fabien Nataf</td>\n",
       "      <td>Ouverture</td>\n",
       "      <td>0IuslXpMROHdEPvSl1fTQK</td>\n",
       "      <td>4</td>\n",
       "      <td>0.950</td>\n",
       "      <td>0.331</td>\n",
       "      <td>82625</td>\n",
       "      <td>0.225</td>\n",
       "      <td>0.123</td>\n",
       "      <td>F</td>\n",
       "      <td>0.2020</td>\n",
       "      <td>-21.150</td>\n",
       "      <td>Major</td>\n",
       "      <td>0.0456</td>\n",
       "      <td>140.576</td>\n",
       "      <td>4/4</td>\n",
       "      <td>0.390</td>\n",
       "    </tr>\n",
       "  </tbody>\n",
       "</table>\n",
       "</div>"
      ],
      "text/plain": [
       "   genre        artist_name                        track_name  \\\n",
       "0  Movie     Henri Salvador       C'est beau de faire un Show   \n",
       "1  Movie  Martin & les fées  Perdu d'avance (par Gad Elmaleh)   \n",
       "2  Movie    Joseph Williams    Don't Let Me Be Lonely Tonight   \n",
       "3  Movie     Henri Salvador    Dis-moi Monsieur Gordon Cooper   \n",
       "4  Movie       Fabien Nataf                         Ouverture   \n",
       "\n",
       "                 track_id  popularity  acousticness  danceability  \\\n",
       "0  0BRjO6ga9RKCKjfDqeFgWV           0         0.611         0.389   \n",
       "1  0BjC1NfoEOOusryehmNudP           1         0.246         0.590   \n",
       "2  0CoSDzoNIKCRs124s9uTVy           3         0.952         0.663   \n",
       "3  0Gc6TVm52BwZD07Ki6tIvf           0         0.703         0.240   \n",
       "4  0IuslXpMROHdEPvSl1fTQK           4         0.950         0.331   \n",
       "\n",
       "   duration_ms  energy  instrumentalness key  liveness  loudness   mode  \\\n",
       "0        99373   0.910             0.000  C#    0.3460    -1.828  Major   \n",
       "1       137373   0.737             0.000  F#    0.1510    -5.559  Minor   \n",
       "2       170267   0.131             0.000   C    0.1030   -13.879  Minor   \n",
       "3       152427   0.326             0.000  C#    0.0985   -12.178  Major   \n",
       "4        82625   0.225             0.123   F    0.2020   -21.150  Major   \n",
       "\n",
       "   speechiness    tempo time_signature  valence  \n",
       "0       0.0525  166.969            4/4    0.814  \n",
       "1       0.0868  174.003            4/4    0.816  \n",
       "2       0.0362   99.488            5/4    0.368  \n",
       "3       0.0395  171.758            4/4    0.227  \n",
       "4       0.0456  140.576            4/4    0.390  "
      ]
     },
     "execution_count": 3,
     "metadata": {},
     "output_type": "execute_result"
    }
   ],
   "source": [
    "data = pd.read_csv(file_name)\n",
    "data.head(5)"
   ]
  },
  {
   "cell_type": "code",
   "execution_count": 4,
   "metadata": {},
   "outputs": [
    {
     "name": "stdout",
     "output_type": "stream",
     "text": [
      "<class 'pandas.core.frame.DataFrame'>\n",
      "RangeIndex: 232725 entries, 0 to 232724\n",
      "Data columns (total 18 columns):\n",
      " #   Column            Non-Null Count   Dtype  \n",
      "---  ------            --------------   -----  \n",
      " 0   genre             232725 non-null  object \n",
      " 1   artist_name       232725 non-null  object \n",
      " 2   track_name        232725 non-null  object \n",
      " 3   track_id          232725 non-null  object \n",
      " 4   popularity        232725 non-null  int64  \n",
      " 5   acousticness      232725 non-null  float64\n",
      " 6   danceability      232725 non-null  float64\n",
      " 7   duration_ms       232725 non-null  int64  \n",
      " 8   energy            232725 non-null  float64\n",
      " 9   instrumentalness  232725 non-null  float64\n",
      " 10  key               232725 non-null  object \n",
      " 11  liveness          232725 non-null  float64\n",
      " 12  loudness          232725 non-null  float64\n",
      " 13  mode              232725 non-null  object \n",
      " 14  speechiness       232725 non-null  float64\n",
      " 15  tempo             232725 non-null  float64\n",
      " 16  time_signature    232725 non-null  object \n",
      " 17  valence           232725 non-null  float64\n",
      "dtypes: float64(9), int64(2), object(7)\n",
      "memory usage: 32.0+ MB\n"
     ]
    }
   ],
   "source": [
    "data.info()"
   ]
  },
  {
   "cell_type": "code",
   "execution_count": 5,
   "metadata": {},
   "outputs": [
    {
     "data": {
      "text/html": [
       "<div>\n",
       "<style scoped>\n",
       "    .dataframe tbody tr th:only-of-type {\n",
       "        vertical-align: middle;\n",
       "    }\n",
       "\n",
       "    .dataframe tbody tr th {\n",
       "        vertical-align: top;\n",
       "    }\n",
       "\n",
       "    .dataframe thead th {\n",
       "        text-align: right;\n",
       "    }\n",
       "</style>\n",
       "<table border=\"1\" class=\"dataframe\">\n",
       "  <thead>\n",
       "    <tr style=\"text-align: right;\">\n",
       "      <th></th>\n",
       "      <th>genre</th>\n",
       "      <th>artist_name</th>\n",
       "      <th>track_name</th>\n",
       "      <th>track_id</th>\n",
       "      <th>popularity</th>\n",
       "      <th>acousticness</th>\n",
       "      <th>danceability</th>\n",
       "      <th>duration_ms</th>\n",
       "      <th>energy</th>\n",
       "      <th>instrumentalness</th>\n",
       "      <th>key</th>\n",
       "      <th>liveness</th>\n",
       "      <th>loudness</th>\n",
       "      <th>mode</th>\n",
       "      <th>speechiness</th>\n",
       "      <th>tempo</th>\n",
       "      <th>time_signature</th>\n",
       "      <th>valence</th>\n",
       "    </tr>\n",
       "  </thead>\n",
       "  <tbody>\n",
       "    <tr>\n",
       "      <th>9027</th>\n",
       "      <td>Dance</td>\n",
       "      <td>Ariana Grande</td>\n",
       "      <td>7 rings</td>\n",
       "      <td>14msK75pk3pA33pzPVNtBF</td>\n",
       "      <td>100</td>\n",
       "      <td>0.578</td>\n",
       "      <td>0.725</td>\n",
       "      <td>178640</td>\n",
       "      <td>0.321</td>\n",
       "      <td>0.000000</td>\n",
       "      <td>C#</td>\n",
       "      <td>0.0884</td>\n",
       "      <td>-10.744</td>\n",
       "      <td>Minor</td>\n",
       "      <td>0.323</td>\n",
       "      <td>70.142</td>\n",
       "      <td>4/4</td>\n",
       "      <td>0.319</td>\n",
       "    </tr>\n",
       "    <tr>\n",
       "      <th>107804</th>\n",
       "      <td>Pop</td>\n",
       "      <td>Ariana Grande</td>\n",
       "      <td>7 rings</td>\n",
       "      <td>14msK75pk3pA33pzPVNtBF</td>\n",
       "      <td>100</td>\n",
       "      <td>0.578</td>\n",
       "      <td>0.725</td>\n",
       "      <td>178640</td>\n",
       "      <td>0.321</td>\n",
       "      <td>0.000000</td>\n",
       "      <td>C#</td>\n",
       "      <td>0.0884</td>\n",
       "      <td>-10.744</td>\n",
       "      <td>Minor</td>\n",
       "      <td>0.323</td>\n",
       "      <td>70.142</td>\n",
       "      <td>4/4</td>\n",
       "      <td>0.319</td>\n",
       "    </tr>\n",
       "    <tr>\n",
       "      <th>86951</th>\n",
       "      <td>Rap</td>\n",
       "      <td>Post Malone</td>\n",
       "      <td>Wow.</td>\n",
       "      <td>6MWtB6iiXyIwun0YzU6DFP</td>\n",
       "      <td>99</td>\n",
       "      <td>0.163</td>\n",
       "      <td>0.833</td>\n",
       "      <td>149520</td>\n",
       "      <td>0.539</td>\n",
       "      <td>0.000002</td>\n",
       "      <td>B</td>\n",
       "      <td>0.1010</td>\n",
       "      <td>-7.399</td>\n",
       "      <td>Minor</td>\n",
       "      <td>0.178</td>\n",
       "      <td>99.947</td>\n",
       "      <td>4/4</td>\n",
       "      <td>0.385</td>\n",
       "    </tr>\n",
       "  </tbody>\n",
       "</table>\n",
       "</div>"
      ],
      "text/plain": [
       "        genre    artist_name track_name                track_id  popularity  \\\n",
       "9027    Dance  Ariana Grande    7 rings  14msK75pk3pA33pzPVNtBF         100   \n",
       "107804    Pop  Ariana Grande    7 rings  14msK75pk3pA33pzPVNtBF         100   \n",
       "86951     Rap    Post Malone       Wow.  6MWtB6iiXyIwun0YzU6DFP          99   \n",
       "\n",
       "        acousticness  danceability  duration_ms  energy  instrumentalness key  \\\n",
       "9027           0.578         0.725       178640   0.321          0.000000  C#   \n",
       "107804         0.578         0.725       178640   0.321          0.000000  C#   \n",
       "86951          0.163         0.833       149520   0.539          0.000002   B   \n",
       "\n",
       "        liveness  loudness   mode  speechiness   tempo time_signature  valence  \n",
       "9027      0.0884   -10.744  Minor        0.323  70.142            4/4    0.319  \n",
       "107804    0.0884   -10.744  Minor        0.323  70.142            4/4    0.319  \n",
       "86951     0.1010    -7.399  Minor        0.178  99.947            4/4    0.385  "
      ]
     },
     "execution_count": 5,
     "metadata": {},
     "output_type": "execute_result"
    }
   ],
   "source": [
    "data.sort_values(by = ['popularity'], ascending=False).head(3)"
   ]
  },
  {
   "cell_type": "code",
   "execution_count": 6,
   "metadata": {},
   "outputs": [
    {
     "name": "stdout",
     "output_type": "stream",
     "text": [
      "Percent of nonzero values in \"instrumentalness\": 4%\n"
     ]
    }
   ],
   "source": [
    "# 1 task\n",
    "# Dastaset doesn't have missing data.\n",
    "percent = np.count_nonzero(data.instrumentalness)/data.size\n",
    "print(f\"Percent of nonzero values in \\\"instrumentalness\\\": {percent:.0%}\")"
   ]
  },
  {
   "cell_type": "markdown",
   "metadata": {},
   "source": [
    "Не очень осмысленный столбец, можно просто от него избавиться."
   ]
  },
  {
   "cell_type": "code",
   "execution_count": 7,
   "metadata": {},
   "outputs": [],
   "source": [
    "data.drop(\"instrumentalness\", inplace = True, axis = 1)"
   ]
  },
  {
   "cell_type": "markdown",
   "metadata": {},
   "source": [
    "Ещё для ведения статистики очень мешает столбец жанра. Его надо будет как-то переформулировать, если мы захотим нормально собирать статистику."
   ]
  },
  {
   "cell_type": "code",
   "execution_count": 8,
   "metadata": {},
   "outputs": [],
   "source": [
    "data.drop(\"genre\", inplace = True, axis = 1)\n",
    "data.drop_duplicates(inplace = True)"
   ]
  },
  {
   "cell_type": "code",
   "execution_count": 9,
   "metadata": {},
   "outputs": [
    {
     "data": {
      "text/html": [
       "<div>\n",
       "<style scoped>\n",
       "    .dataframe tbody tr th:only-of-type {\n",
       "        vertical-align: middle;\n",
       "    }\n",
       "\n",
       "    .dataframe tbody tr th {\n",
       "        vertical-align: top;\n",
       "    }\n",
       "\n",
       "    .dataframe thead th {\n",
       "        text-align: right;\n",
       "    }\n",
       "</style>\n",
       "<table border=\"1\" class=\"dataframe\">\n",
       "  <thead>\n",
       "    <tr style=\"text-align: right;\">\n",
       "      <th></th>\n",
       "      <th>artist_name</th>\n",
       "      <th>track_name</th>\n",
       "      <th>track_id</th>\n",
       "      <th>popularity</th>\n",
       "      <th>acousticness</th>\n",
       "      <th>danceability</th>\n",
       "      <th>duration_ms</th>\n",
       "      <th>energy</th>\n",
       "      <th>key</th>\n",
       "      <th>liveness</th>\n",
       "      <th>loudness</th>\n",
       "      <th>mode</th>\n",
       "      <th>speechiness</th>\n",
       "      <th>tempo</th>\n",
       "      <th>time_signature</th>\n",
       "      <th>valence</th>\n",
       "    </tr>\n",
       "  </thead>\n",
       "  <tbody>\n",
       "    <tr>\n",
       "      <th>0</th>\n",
       "      <td>Henri Salvador</td>\n",
       "      <td>C'est beau de faire un Show</td>\n",
       "      <td>0BRjO6ga9RKCKjfDqeFgWV</td>\n",
       "      <td>0</td>\n",
       "      <td>0.61100</td>\n",
       "      <td>0.389</td>\n",
       "      <td>99373</td>\n",
       "      <td>0.9100</td>\n",
       "      <td>C#</td>\n",
       "      <td>0.3460</td>\n",
       "      <td>-1.828</td>\n",
       "      <td>Major</td>\n",
       "      <td>0.0525</td>\n",
       "      <td>166.969</td>\n",
       "      <td>4/4</td>\n",
       "      <td>0.814</td>\n",
       "    </tr>\n",
       "    <tr>\n",
       "      <th>1</th>\n",
       "      <td>Martin &amp; les fées</td>\n",
       "      <td>Perdu d'avance (par Gad Elmaleh)</td>\n",
       "      <td>0BjC1NfoEOOusryehmNudP</td>\n",
       "      <td>1</td>\n",
       "      <td>0.24600</td>\n",
       "      <td>0.590</td>\n",
       "      <td>137373</td>\n",
       "      <td>0.7370</td>\n",
       "      <td>F#</td>\n",
       "      <td>0.1510</td>\n",
       "      <td>-5.559</td>\n",
       "      <td>Minor</td>\n",
       "      <td>0.0868</td>\n",
       "      <td>174.003</td>\n",
       "      <td>4/4</td>\n",
       "      <td>0.816</td>\n",
       "    </tr>\n",
       "    <tr>\n",
       "      <th>2</th>\n",
       "      <td>Joseph Williams</td>\n",
       "      <td>Don't Let Me Be Lonely Tonight</td>\n",
       "      <td>0CoSDzoNIKCRs124s9uTVy</td>\n",
       "      <td>3</td>\n",
       "      <td>0.95200</td>\n",
       "      <td>0.663</td>\n",
       "      <td>170267</td>\n",
       "      <td>0.1310</td>\n",
       "      <td>C</td>\n",
       "      <td>0.1030</td>\n",
       "      <td>-13.879</td>\n",
       "      <td>Minor</td>\n",
       "      <td>0.0362</td>\n",
       "      <td>99.488</td>\n",
       "      <td>5/4</td>\n",
       "      <td>0.368</td>\n",
       "    </tr>\n",
       "    <tr>\n",
       "      <th>3</th>\n",
       "      <td>Henri Salvador</td>\n",
       "      <td>Dis-moi Monsieur Gordon Cooper</td>\n",
       "      <td>0Gc6TVm52BwZD07Ki6tIvf</td>\n",
       "      <td>0</td>\n",
       "      <td>0.70300</td>\n",
       "      <td>0.240</td>\n",
       "      <td>152427</td>\n",
       "      <td>0.3260</td>\n",
       "      <td>C#</td>\n",
       "      <td>0.0985</td>\n",
       "      <td>-12.178</td>\n",
       "      <td>Major</td>\n",
       "      <td>0.0395</td>\n",
       "      <td>171.758</td>\n",
       "      <td>4/4</td>\n",
       "      <td>0.227</td>\n",
       "    </tr>\n",
       "    <tr>\n",
       "      <th>4</th>\n",
       "      <td>Fabien Nataf</td>\n",
       "      <td>Ouverture</td>\n",
       "      <td>0IuslXpMROHdEPvSl1fTQK</td>\n",
       "      <td>4</td>\n",
       "      <td>0.95000</td>\n",
       "      <td>0.331</td>\n",
       "      <td>82625</td>\n",
       "      <td>0.2250</td>\n",
       "      <td>F</td>\n",
       "      <td>0.2020</td>\n",
       "      <td>-21.150</td>\n",
       "      <td>Major</td>\n",
       "      <td>0.0456</td>\n",
       "      <td>140.576</td>\n",
       "      <td>4/4</td>\n",
       "      <td>0.390</td>\n",
       "    </tr>\n",
       "    <tr>\n",
       "      <th>5</th>\n",
       "      <td>Henri Salvador</td>\n",
       "      <td>Le petit souper aux chandelles</td>\n",
       "      <td>0Mf1jKa8eNAf1a4PwTbizj</td>\n",
       "      <td>0</td>\n",
       "      <td>0.74900</td>\n",
       "      <td>0.578</td>\n",
       "      <td>160627</td>\n",
       "      <td>0.0948</td>\n",
       "      <td>C#</td>\n",
       "      <td>0.1070</td>\n",
       "      <td>-14.970</td>\n",
       "      <td>Major</td>\n",
       "      <td>0.1430</td>\n",
       "      <td>87.479</td>\n",
       "      <td>4/4</td>\n",
       "      <td>0.358</td>\n",
       "    </tr>\n",
       "    <tr>\n",
       "      <th>6</th>\n",
       "      <td>Martin &amp; les fées</td>\n",
       "      <td>Premières recherches (par Paul Ventimila, Lori...</td>\n",
       "      <td>0NUiKYRd6jt1LKMYGkUdnZ</td>\n",
       "      <td>2</td>\n",
       "      <td>0.34400</td>\n",
       "      <td>0.703</td>\n",
       "      <td>212293</td>\n",
       "      <td>0.2700</td>\n",
       "      <td>C#</td>\n",
       "      <td>0.1050</td>\n",
       "      <td>-12.675</td>\n",
       "      <td>Major</td>\n",
       "      <td>0.9530</td>\n",
       "      <td>82.873</td>\n",
       "      <td>4/4</td>\n",
       "      <td>0.533</td>\n",
       "    </tr>\n",
       "    <tr>\n",
       "      <th>7</th>\n",
       "      <td>Laura Mayne</td>\n",
       "      <td>Let Me Let Go</td>\n",
       "      <td>0PbIF9YVD505GutwotpB5C</td>\n",
       "      <td>15</td>\n",
       "      <td>0.93900</td>\n",
       "      <td>0.416</td>\n",
       "      <td>240067</td>\n",
       "      <td>0.2690</td>\n",
       "      <td>F#</td>\n",
       "      <td>0.1130</td>\n",
       "      <td>-8.949</td>\n",
       "      <td>Major</td>\n",
       "      <td>0.0286</td>\n",
       "      <td>96.827</td>\n",
       "      <td>4/4</td>\n",
       "      <td>0.274</td>\n",
       "    </tr>\n",
       "    <tr>\n",
       "      <th>8</th>\n",
       "      <td>Chorus</td>\n",
       "      <td>Helka</td>\n",
       "      <td>0ST6uPfvaPpJLtQwhE6KfC</td>\n",
       "      <td>0</td>\n",
       "      <td>0.00104</td>\n",
       "      <td>0.734</td>\n",
       "      <td>226200</td>\n",
       "      <td>0.4810</td>\n",
       "      <td>C</td>\n",
       "      <td>0.0765</td>\n",
       "      <td>-7.725</td>\n",
       "      <td>Major</td>\n",
       "      <td>0.0460</td>\n",
       "      <td>125.080</td>\n",
       "      <td>4/4</td>\n",
       "      <td>0.765</td>\n",
       "    </tr>\n",
       "    <tr>\n",
       "      <th>9</th>\n",
       "      <td>Le Club des Juniors</td>\n",
       "      <td>Les bisous des bisounours</td>\n",
       "      <td>0VSqZ3KStsjcfERGdcWpFO</td>\n",
       "      <td>10</td>\n",
       "      <td>0.31900</td>\n",
       "      <td>0.598</td>\n",
       "      <td>152694</td>\n",
       "      <td>0.7050</td>\n",
       "      <td>G</td>\n",
       "      <td>0.3490</td>\n",
       "      <td>-7.790</td>\n",
       "      <td>Major</td>\n",
       "      <td>0.0281</td>\n",
       "      <td>137.496</td>\n",
       "      <td>4/4</td>\n",
       "      <td>0.718</td>\n",
       "    </tr>\n",
       "  </tbody>\n",
       "</table>\n",
       "</div>"
      ],
      "text/plain": [
       "           artist_name                                         track_name  \\\n",
       "0       Henri Salvador                        C'est beau de faire un Show   \n",
       "1    Martin & les fées                   Perdu d'avance (par Gad Elmaleh)   \n",
       "2      Joseph Williams                     Don't Let Me Be Lonely Tonight   \n",
       "3       Henri Salvador                     Dis-moi Monsieur Gordon Cooper   \n",
       "4         Fabien Nataf                                          Ouverture   \n",
       "5       Henri Salvador                     Le petit souper aux chandelles   \n",
       "6    Martin & les fées  Premières recherches (par Paul Ventimila, Lori...   \n",
       "7          Laura Mayne                                      Let Me Let Go   \n",
       "8               Chorus                                              Helka   \n",
       "9  Le Club des Juniors                          Les bisous des bisounours   \n",
       "\n",
       "                 track_id  popularity  acousticness  danceability  \\\n",
       "0  0BRjO6ga9RKCKjfDqeFgWV           0       0.61100         0.389   \n",
       "1  0BjC1NfoEOOusryehmNudP           1       0.24600         0.590   \n",
       "2  0CoSDzoNIKCRs124s9uTVy           3       0.95200         0.663   \n",
       "3  0Gc6TVm52BwZD07Ki6tIvf           0       0.70300         0.240   \n",
       "4  0IuslXpMROHdEPvSl1fTQK           4       0.95000         0.331   \n",
       "5  0Mf1jKa8eNAf1a4PwTbizj           0       0.74900         0.578   \n",
       "6  0NUiKYRd6jt1LKMYGkUdnZ           2       0.34400         0.703   \n",
       "7  0PbIF9YVD505GutwotpB5C          15       0.93900         0.416   \n",
       "8  0ST6uPfvaPpJLtQwhE6KfC           0       0.00104         0.734   \n",
       "9  0VSqZ3KStsjcfERGdcWpFO          10       0.31900         0.598   \n",
       "\n",
       "   duration_ms  energy key  liveness  loudness   mode  speechiness    tempo  \\\n",
       "0        99373  0.9100  C#    0.3460    -1.828  Major       0.0525  166.969   \n",
       "1       137373  0.7370  F#    0.1510    -5.559  Minor       0.0868  174.003   \n",
       "2       170267  0.1310   C    0.1030   -13.879  Minor       0.0362   99.488   \n",
       "3       152427  0.3260  C#    0.0985   -12.178  Major       0.0395  171.758   \n",
       "4        82625  0.2250   F    0.2020   -21.150  Major       0.0456  140.576   \n",
       "5       160627  0.0948  C#    0.1070   -14.970  Major       0.1430   87.479   \n",
       "6       212293  0.2700  C#    0.1050   -12.675  Major       0.9530   82.873   \n",
       "7       240067  0.2690  F#    0.1130    -8.949  Major       0.0286   96.827   \n",
       "8       226200  0.4810   C    0.0765    -7.725  Major       0.0460  125.080   \n",
       "9       152694  0.7050   G    0.3490    -7.790  Major       0.0281  137.496   \n",
       "\n",
       "  time_signature  valence  \n",
       "0            4/4    0.814  \n",
       "1            4/4    0.816  \n",
       "2            5/4    0.368  \n",
       "3            4/4    0.227  \n",
       "4            4/4    0.390  \n",
       "5            4/4    0.358  \n",
       "6            4/4    0.533  \n",
       "7            4/4    0.274  \n",
       "8            4/4    0.765  \n",
       "9            4/4    0.718  "
      ]
     },
     "execution_count": 9,
     "metadata": {},
     "output_type": "execute_result"
    }
   ],
   "source": [
    "data.head(10)"
   ]
  },
  {
   "cell_type": "code",
   "execution_count": 10,
   "metadata": {},
   "outputs": [],
   "source": [
    "# 2 task\n",
    "import matplotlib.pyplot as plt"
   ]
  },
  {
   "cell_type": "code",
   "execution_count": 36,
   "metadata": {},
   "outputs": [
    {
     "name": "stderr",
     "output_type": "stream",
     "text": [
      "C:\\ProgramData\\Anaconda3\\lib\\site-packages\\matplotlib\\cbook\\__init__.py:2064: FutureWarning: Support for multi-dimensional indexing (e.g. `obj[:, None]`) is deprecated and will be removed in a future version.  Convert to a numpy array before indexing instead.\n",
      "  x[:, None]\n",
      "C:\\ProgramData\\Anaconda3\\lib\\site-packages\\matplotlib\\axes\\_base.py:248: FutureWarning: Support for multi-dimensional indexing (e.g. `obj[:, None]`) is deprecated and will be removed in a future version.  Convert to a numpy array before indexing instead.\n",
      "  x = x[:, np.newaxis]\n",
      "C:\\ProgramData\\Anaconda3\\lib\\site-packages\\matplotlib\\axes\\_base.py:250: FutureWarning: Support for multi-dimensional indexing (e.g. `obj[:, None]`) is deprecated and will be removed in a future version.  Convert to a numpy array before indexing instead.\n",
      "  y = y[:, np.newaxis]\n"
     ]
    },
    {
     "data": {
      "text/plain": [
       "(0, 10)"
      ]
     },
     "execution_count": 36,
     "metadata": {},
     "output_type": "execute_result"
    },
    {
     "data": {
      "image/png": "[encoded data removed]",
      "text/plain": [
       "<Figure size 360x360 with 1 Axes>"
      ]
     },
     "metadata": {
      "needs_background": "light"
     },
     "output_type": "display_data"
    }
   ],
   "source": [
    "#plot - что-то непрерывное\n",
    "#Честный 0 непрерывной информации.\n",
    "plt.plot(data.index, data.sort_values(by = ['duration_ms']).duration_ms/60000)\n",
    "plt.xlabel('sorted_index')\n",
    "plt.ylabel('duration in min')\n",
    "plt.ylim((0, 10))"
   ]
  },
  {
   "cell_type": "code",
   "execution_count": 12,
   "metadata": {},
   "outputs": [
    {
     "data": {
      "image/png": "[encoded data removed]",
      "text/plain": [
       "<Figure size 432x288 with 1 Axes>"
      ]
     },
     "metadata": {
      "needs_background": "light"
     },
     "output_type": "display_data"
    }
   ],
   "source": [
    "#hist - распределение\n",
    "plt.hist(data.popularity)\n",
    "plt.show()"
   ]
  },
  {
   "cell_type": "markdown",
   "metadata": {},
   "source": [
    "Распределение очень похоже на нормальное."
   ]
  },
  {
   "cell_type": "code",
   "execution_count": 13,
   "metadata": {},
   "outputs": [
    {
     "data": {
      "image/png": "[encoded data removed]",
      "text/plain": [
       "<Figure size 432x288 with 1 Axes>"
      ]
     },
     "metadata": {
      "needs_background": "light"
     },
     "output_type": "display_data"
    }
   ],
   "source": [
    "#hist2d\n",
    "plt.hist2d(data.danceability, data.energy)\n",
    "plt.show()"
   ]
  },
  {
   "cell_type": "code",
   "execution_count": 14,
   "metadata": {},
   "outputs": [
    {
     "data": {
      "image/png": "[encoded data removed]",
      "text/plain": [
       "<Figure size 432x288 with 1 Axes>"
      ]
     },
     "metadata": {
      "needs_background": "light"
     },
     "output_type": "display_data"
    }
   ],
   "source": [
    "#scatter - как распределены объекты относительно двух признаков\n",
    "plt.scatter(data.duration_ms/60000, data.popularity, alpha = 0.25)\n",
    "plt.rcParams[\"figure.figsize\"] = (15, 10)\n",
    "plt.ylabel('popularity')\n",
    "plt.xlabel('duration in min')\n",
    "plt.show()"
   ]
  },
  {
   "cell_type": "code",
   "execution_count": 15,
   "metadata": {},
   "outputs": [
    {
     "name": "stderr",
     "output_type": "stream",
     "text": [
      "C:\\ProgramData\\Anaconda3\\lib\\site-packages\\matplotlib\\cbook\\__init__.py:2082: VisibleDeprecationWarning: Creating an ndarray from ragged nested sequences (which is a list-or-tuple of lists-or-tuples-or ndarrays with different lengths or shapes) is deprecated. If you meant to do this, you must specify 'dtype=object' when creating the ndarray.\n",
      "  X = np.atleast_1d(X.T if isinstance(X, np.ndarray) else np.asarray(X))\n"
     ]
    },
    {
     "data": {
      "image/png": "[encoded data removed]",
      "text/plain": [
       "<Figure size 360x360 with 4 Axes>"
      ]
     },
     "metadata": {
      "needs_background": "light"
     },
     "output_type": "display_data"
    }
   ],
   "source": [
    "#boxplot - распределение\n",
    "plt.rcParams[\"figure.figsize\"] = (5, 5)\n",
    "fig, axs = plt.subplots(2, 2)\n",
    "params = [['energy', 'liveness'], ['popularity', 'tempo']]\n",
    "major = data[data['mode'] == 'Major']\n",
    "minor = data[data['mode'] == 'Minor']\n",
    "def boxplot(x, y):\n",
    "    param = params[x][y]\n",
    "    axs[x, y].boxplot([major[param], minor[param]], )\n",
    "boxplot(0,0)\n",
    "boxplot(0,1)\n",
    "boxplot(1,0)\n",
    "boxplot(1,1)\n",
    "plt.show()"
   ]
  },
  {
   "cell_type": "code",
   "execution_count": 16,
   "metadata": {},
   "outputs": [
    {
     "data": {
      "text/html": [
       "<div>\n",
       "<style scoped>\n",
       "    .dataframe tbody tr th:only-of-type {\n",
       "        vertical-align: middle;\n",
       "    }\n",
       "\n",
       "    .dataframe tbody tr th {\n",
       "        vertical-align: top;\n",
       "    }\n",
       "\n",
       "    .dataframe thead th {\n",
       "        text-align: right;\n",
       "    }\n",
       "</style>\n",
       "<table border=\"1\" class=\"dataframe\">\n",
       "  <thead>\n",
       "    <tr style=\"text-align: right;\">\n",
       "      <th></th>\n",
       "      <th>artist_name</th>\n",
       "      <th>track_name</th>\n",
       "      <th>track_id</th>\n",
       "      <th>popularity</th>\n",
       "      <th>acousticness</th>\n",
       "      <th>danceability</th>\n",
       "      <th>duration_ms</th>\n",
       "      <th>energy</th>\n",
       "      <th>key</th>\n",
       "      <th>liveness</th>\n",
       "      <th>loudness</th>\n",
       "      <th>mode</th>\n",
       "      <th>speechiness</th>\n",
       "      <th>tempo</th>\n",
       "      <th>time_signature</th>\n",
       "      <th>valence</th>\n",
       "      <th>karaokiness</th>\n",
       "    </tr>\n",
       "  </thead>\n",
       "  <tbody>\n",
       "    <tr>\n",
       "      <th>0</th>\n",
       "      <td>Henri Salvador</td>\n",
       "      <td>C'est beau de faire un Show</td>\n",
       "      <td>0BRjO6ga9RKCKjfDqeFgWV</td>\n",
       "      <td>0</td>\n",
       "      <td>0.611</td>\n",
       "      <td>0.389</td>\n",
       "      <td>99373</td>\n",
       "      <td>0.910</td>\n",
       "      <td>C#</td>\n",
       "      <td>0.3460</td>\n",
       "      <td>-1.828</td>\n",
       "      <td>Major</td>\n",
       "      <td>0.0525</td>\n",
       "      <td>166.969</td>\n",
       "      <td>4/4</td>\n",
       "      <td>0.814</td>\n",
       "      <td>0.903700</td>\n",
       "    </tr>\n",
       "    <tr>\n",
       "      <th>1</th>\n",
       "      <td>Martin &amp; les fées</td>\n",
       "      <td>Perdu d'avance (par Gad Elmaleh)</td>\n",
       "      <td>0BjC1NfoEOOusryehmNudP</td>\n",
       "      <td>1</td>\n",
       "      <td>0.246</td>\n",
       "      <td>0.590</td>\n",
       "      <td>137373</td>\n",
       "      <td>0.737</td>\n",
       "      <td>F#</td>\n",
       "      <td>0.1510</td>\n",
       "      <td>-5.559</td>\n",
       "      <td>Minor</td>\n",
       "      <td>0.0868</td>\n",
       "      <td>174.003</td>\n",
       "      <td>4/4</td>\n",
       "      <td>0.816</td>\n",
       "      <td>1.010836</td>\n",
       "    </tr>\n",
       "    <tr>\n",
       "      <th>2</th>\n",
       "      <td>Joseph Williams</td>\n",
       "      <td>Don't Let Me Be Lonely Tonight</td>\n",
       "      <td>0CoSDzoNIKCRs124s9uTVy</td>\n",
       "      <td>3</td>\n",
       "      <td>0.952</td>\n",
       "      <td>0.663</td>\n",
       "      <td>170267</td>\n",
       "      <td>0.131</td>\n",
       "      <td>C</td>\n",
       "      <td>0.1030</td>\n",
       "      <td>-13.879</td>\n",
       "      <td>Minor</td>\n",
       "      <td>0.0362</td>\n",
       "      <td>99.488</td>\n",
       "      <td>5/4</td>\n",
       "      <td>0.368</td>\n",
       "      <td>0.760923</td>\n",
       "    </tr>\n",
       "    <tr>\n",
       "      <th>3</th>\n",
       "      <td>Henri Salvador</td>\n",
       "      <td>Dis-moi Monsieur Gordon Cooper</td>\n",
       "      <td>0Gc6TVm52BwZD07Ki6tIvf</td>\n",
       "      <td>0</td>\n",
       "      <td>0.703</td>\n",
       "      <td>0.240</td>\n",
       "      <td>152427</td>\n",
       "      <td>0.326</td>\n",
       "      <td>C#</td>\n",
       "      <td>0.0985</td>\n",
       "      <td>-12.178</td>\n",
       "      <td>Major</td>\n",
       "      <td>0.0395</td>\n",
       "      <td>171.758</td>\n",
       "      <td>4/4</td>\n",
       "      <td>0.227</td>\n",
       "      <td>0.332700</td>\n",
       "    </tr>\n",
       "    <tr>\n",
       "      <th>4</th>\n",
       "      <td>Fabien Nataf</td>\n",
       "      <td>Ouverture</td>\n",
       "      <td>0IuslXpMROHdEPvSl1fTQK</td>\n",
       "      <td>4</td>\n",
       "      <td>0.950</td>\n",
       "      <td>0.331</td>\n",
       "      <td>82625</td>\n",
       "      <td>0.225</td>\n",
       "      <td>F</td>\n",
       "      <td>0.2020</td>\n",
       "      <td>-21.150</td>\n",
       "      <td>Major</td>\n",
       "      <td>0.0456</td>\n",
       "      <td>140.576</td>\n",
       "      <td>4/4</td>\n",
       "      <td>0.390</td>\n",
       "      <td>0.518209</td>\n",
       "    </tr>\n",
       "  </tbody>\n",
       "</table>\n",
       "</div>"
      ],
      "text/plain": [
       "         artist_name                        track_name  \\\n",
       "0     Henri Salvador       C'est beau de faire un Show   \n",
       "1  Martin & les fées  Perdu d'avance (par Gad Elmaleh)   \n",
       "2    Joseph Williams    Don't Let Me Be Lonely Tonight   \n",
       "3     Henri Salvador    Dis-moi Monsieur Gordon Cooper   \n",
       "4       Fabien Nataf                         Ouverture   \n",
       "\n",
       "                 track_id  popularity  acousticness  danceability  \\\n",
       "0  0BRjO6ga9RKCKjfDqeFgWV           0         0.611         0.389   \n",
       "1  0BjC1NfoEOOusryehmNudP           1         0.246         0.590   \n",
       "2  0CoSDzoNIKCRs124s9uTVy           3         0.952         0.663   \n",
       "3  0Gc6TVm52BwZD07Ki6tIvf           0         0.703         0.240   \n",
       "4  0IuslXpMROHdEPvSl1fTQK           4         0.950         0.331   \n",
       "\n",
       "   duration_ms  energy key  liveness  loudness   mode  speechiness    tempo  \\\n",
       "0        99373   0.910  C#    0.3460    -1.828  Major       0.0525  166.969   \n",
       "1       137373   0.737  F#    0.1510    -5.559  Minor       0.0868  174.003   \n",
       "2       170267   0.131   C    0.1030   -13.879  Minor       0.0362   99.488   \n",
       "3       152427   0.326  C#    0.0985   -12.178  Major       0.0395  171.758   \n",
       "4        82625   0.225   F    0.2020   -21.150  Major       0.0456  140.576   \n",
       "\n",
       "  time_signature  valence  karaokiness  \n",
       "0            4/4    0.814     0.903700  \n",
       "1            4/4    0.816     1.010836  \n",
       "2            5/4    0.368     0.760923  \n",
       "3            4/4    0.227     0.332700  \n",
       "4            4/4    0.390     0.518209  "
      ]
     },
     "execution_count": 16,
     "metadata": {},
     "output_type": "execute_result"
    }
   ],
   "source": [
    "# 4 task\n",
    "# Adding karaoke column. Song is greate for karaoke, if it is popular and has a big speechiness.\n",
    "max_popularity = data.popularity.max()\n",
    "def toKaraokiness(data: pd.Series, max_popularity: int) -> pd.Series:\n",
    "    return (data.speechiness**2 + 3*(data.popularity / max_popularity)**2 + data.danceability**2 + data.valence**2).pow(1/2)\n",
    "dataWithKaraoke = data.assign(karaokiness = data.pipe(toKaraokiness, max_popularity))\n",
    "dataWithKaraoke.head(5)"
   ]
  },
  {
   "cell_type": "code",
   "execution_count": 17,
   "metadata": {},
   "outputs": [
    {
     "data": {
      "text/html": [
       "<div>\n",
       "<style scoped>\n",
       "    .dataframe tbody tr th:only-of-type {\n",
       "        vertical-align: middle;\n",
       "    }\n",
       "\n",
       "    .dataframe tbody tr th {\n",
       "        vertical-align: top;\n",
       "    }\n",
       "\n",
       "    .dataframe thead th {\n",
       "        text-align: right;\n",
       "    }\n",
       "</style>\n",
       "<table border=\"1\" class=\"dataframe\">\n",
       "  <thead>\n",
       "    <tr style=\"text-align: right;\">\n",
       "      <th></th>\n",
       "      <th>artist_name</th>\n",
       "      <th>track_name</th>\n",
       "      <th>track_id</th>\n",
       "      <th>popularity</th>\n",
       "      <th>acousticness</th>\n",
       "      <th>danceability</th>\n",
       "      <th>duration_ms</th>\n",
       "      <th>energy</th>\n",
       "      <th>key</th>\n",
       "      <th>liveness</th>\n",
       "      <th>loudness</th>\n",
       "      <th>mode</th>\n",
       "      <th>speechiness</th>\n",
       "      <th>tempo</th>\n",
       "      <th>time_signature</th>\n",
       "      <th>valence</th>\n",
       "      <th>karaokiness</th>\n",
       "    </tr>\n",
       "  </thead>\n",
       "  <tbody>\n",
       "    <tr>\n",
       "      <th>107816</th>\n",
       "      <td>Jonas Brothers</td>\n",
       "      <td>Sucker</td>\n",
       "      <td>4y3OI86AEP6PQoDE6olYhO</td>\n",
       "      <td>94</td>\n",
       "      <td>0.0436</td>\n",
       "      <td>0.846</td>\n",
       "      <td>181040</td>\n",
       "      <td>0.731</td>\n",
       "      <td>C#</td>\n",
       "      <td>0.0949</td>\n",
       "      <td>-5.027</td>\n",
       "      <td>Minor</td>\n",
       "      <td>0.0640</td>\n",
       "      <td>137.947</td>\n",
       "      <td>4/4</td>\n",
       "      <td>0.933</td>\n",
       "      <td>2.059393</td>\n",
       "    </tr>\n",
       "    <tr>\n",
       "      <th>86953</th>\n",
       "      <td>Post Malone</td>\n",
       "      <td>Sunflower - Spider-Man: Into the Spider-Verse</td>\n",
       "      <td>3KkXRkHbMCARz0aVfEt68P</td>\n",
       "      <td>97</td>\n",
       "      <td>0.5560</td>\n",
       "      <td>0.760</td>\n",
       "      <td>158040</td>\n",
       "      <td>0.479</td>\n",
       "      <td>D</td>\n",
       "      <td>0.0703</td>\n",
       "      <td>-5.574</td>\n",
       "      <td>Major</td>\n",
       "      <td>0.0466</td>\n",
       "      <td>89.911</td>\n",
       "      <td>4/4</td>\n",
       "      <td>0.913</td>\n",
       "      <td>2.058164</td>\n",
       "    </tr>\n",
       "    <tr>\n",
       "      <th>107875</th>\n",
       "      <td>Pedro Capó</td>\n",
       "      <td>Calma - Remix</td>\n",
       "      <td>5iwz1NiezX7WWjnCgY5TH4</td>\n",
       "      <td>97</td>\n",
       "      <td>0.3230</td>\n",
       "      <td>0.826</td>\n",
       "      <td>238200</td>\n",
       "      <td>0.773</td>\n",
       "      <td>B</td>\n",
       "      <td>0.1430</td>\n",
       "      <td>-4.218</td>\n",
       "      <td>Minor</td>\n",
       "      <td>0.0524</td>\n",
       "      <td>126.899</td>\n",
       "      <td>4/4</td>\n",
       "      <td>0.761</td>\n",
       "      <td>2.021594</td>\n",
       "    </tr>\n",
       "    <tr>\n",
       "      <th>9042</th>\n",
       "      <td>Jonas Brothers</td>\n",
       "      <td>Sucker</td>\n",
       "      <td>4y3OI86AEP6PQoDE6olYhO</td>\n",
       "      <td>91</td>\n",
       "      <td>0.0436</td>\n",
       "      <td>0.846</td>\n",
       "      <td>181040</td>\n",
       "      <td>0.731</td>\n",
       "      <td>C#</td>\n",
       "      <td>0.0949</td>\n",
       "      <td>-5.027</td>\n",
       "      <td>Minor</td>\n",
       "      <td>0.0640</td>\n",
       "      <td>137.947</td>\n",
       "      <td>4/4</td>\n",
       "      <td>0.933</td>\n",
       "      <td>2.018564</td>\n",
       "    </tr>\n",
       "    <tr>\n",
       "      <th>138922</th>\n",
       "      <td>Anuel Aa</td>\n",
       "      <td>Amanece</td>\n",
       "      <td>1LiN0Z98FkR1t0m8KmLcAH</td>\n",
       "      <td>92</td>\n",
       "      <td>0.4370</td>\n",
       "      <td>0.790</td>\n",
       "      <td>190005</td>\n",
       "      <td>0.631</td>\n",
       "      <td>G#</td>\n",
       "      <td>0.1580</td>\n",
       "      <td>-5.549</td>\n",
       "      <td>Minor</td>\n",
       "      <td>0.0425</td>\n",
       "      <td>94.039</td>\n",
       "      <td>4/4</td>\n",
       "      <td>0.889</td>\n",
       "      <td>1.988826</td>\n",
       "    </tr>\n",
       "  </tbody>\n",
       "</table>\n",
       "</div>"
      ],
      "text/plain": [
       "           artist_name                                     track_name  \\\n",
       "107816  Jonas Brothers                                         Sucker   \n",
       "86953      Post Malone  Sunflower - Spider-Man: Into the Spider-Verse   \n",
       "107875      Pedro Capó                                  Calma - Remix   \n",
       "9042    Jonas Brothers                                         Sucker   \n",
       "138922        Anuel Aa                                        Amanece   \n",
       "\n",
       "                      track_id  popularity  acousticness  danceability  \\\n",
       "107816  4y3OI86AEP6PQoDE6olYhO          94        0.0436         0.846   \n",
       "86953   3KkXRkHbMCARz0aVfEt68P          97        0.5560         0.760   \n",
       "107875  5iwz1NiezX7WWjnCgY5TH4          97        0.3230         0.826   \n",
       "9042    4y3OI86AEP6PQoDE6olYhO          91        0.0436         0.846   \n",
       "138922  1LiN0Z98FkR1t0m8KmLcAH          92        0.4370         0.790   \n",
       "\n",
       "        duration_ms  energy key  liveness  loudness   mode  speechiness  \\\n",
       "107816       181040   0.731  C#    0.0949    -5.027  Minor       0.0640   \n",
       "86953        158040   0.479   D    0.0703    -5.574  Major       0.0466   \n",
       "107875       238200   0.773   B    0.1430    -4.218  Minor       0.0524   \n",
       "9042         181040   0.731  C#    0.0949    -5.027  Minor       0.0640   \n",
       "138922       190005   0.631  G#    0.1580    -5.549  Minor       0.0425   \n",
       "\n",
       "          tempo time_signature  valence  karaokiness  \n",
       "107816  137.947            4/4    0.933     2.059393  \n",
       "86953    89.911            4/4    0.913     2.058164  \n",
       "107875  126.899            4/4    0.761     2.021594  \n",
       "9042    137.947            4/4    0.933     2.018564  \n",
       "138922   94.039            4/4    0.889     1.988826  "
      ]
     },
     "execution_count": 17,
     "metadata": {},
     "output_type": "execute_result"
    }
   ],
   "source": [
    "max_karaokiness = dataWithKaraoke.karaokiness.idxmax()\n",
    "dataWithKaraoke.sort_values(by = ['karaokiness'], ascending=False).head(5)"
   ]
  },
  {
   "cell_type": "markdown",
   "metadata": {
    "id": "figured-arnold"
   },
   "source": [
    "# 2. Интерполяция кривой\n",
    "\n",
    "Сгенерируйте от 5 до 20 точек со случайными разными координатами (x, y), расположите их на координатной плоскости\n",
    "\n",
    "1. С помощью библиотеки scipy примените один из её [алгоритмов интерполяции](https://docs.scipy.org/doc/scipy/reference/interpolate.html) к сгенерированным данным\n",
    "1. Изучите математический подход метод выбранного алгоритма интерполяции в scipy. Найдите и продемонстрируйте при сдаче реализацию метода в исходном коде библиотеки scipy. Найти можно в [github репозитории проекта](https://github.com/scipy/scipy)\n",
    "1. Выберите среди методов интерполяции в scipy любой другой метод интерполяции (кроме линейной интерполяций). Реализуйте выбранный метод без использования сторонних библиотек. Разрешается использовать numpy для упрощения математичеких вычислений\n",
    "1. Визуализируйте кривую интерполяции библиотечного и вашего алгоритмов с помощью  matplotlib. Сравните качество интерполяции своего и библиотечного методов, объясните разницу в качестве"
   ]
  },
  {
   "cell_type": "code",
   "execution_count": 18,
   "metadata": {},
   "outputs": [
    {
     "data": {
      "text/plain": [
       "(array([79.98667382, 37.9835661 , 43.23585198, 23.8833588 , 96.93979966,\n",
       "        35.27737994, 83.87598558, 11.61751476, 68.14325498, 76.53959783]),\n",
       " array([40.07018628, 96.84750533, 70.16147759, 37.26764741, 54.90302136,\n",
       "        83.62639316, 60.94775345, 40.67016591, 71.90157486, 88.97434833]))"
      ]
     },
     "execution_count": 18,
     "metadata": {},
     "output_type": "execute_result"
    }
   ],
   "source": [
    "import numpy.random as rnd\n",
    "cnt = 10\n",
    "rng = 100\n",
    "x = rnd.rand(cnt) * rng\n",
    "y = rnd.rand(cnt) * rng\n",
    "x, y"
   ]
  },
  {
   "cell_type": "code",
   "execution_count": 19,
   "metadata": {},
   "outputs": [
    {
     "data": {
      "text/plain": [
       "<matplotlib.collections.PathCollection at 0x210890e8438>"
      ]
     },
     "execution_count": 19,
     "metadata": {},
     "output_type": "execute_result"
    },
    {
     "data": {
      "image/png": "[encoded data removed]",
      "text/plain": [
       "<Figure size 360x360 with 1 Axes>"
      ]
     },
     "metadata": {
      "needs_background": "light"
     },
     "output_type": "display_data"
    }
   ],
   "source": [
    "plt.scatter(x, y)"
   ]
  },
  {
   "cell_type": "markdown",
   "metadata": {},
   "source": [
    "## Barycentric Interpolator"
   ]
  },
  {
   "cell_type": "code",
   "execution_count": 20,
   "metadata": {},
   "outputs": [
    {
     "data": {
      "text/plain": [
       "[<matplotlib.lines.Line2D at 0x210970312b0>]"
      ]
     },
     "execution_count": 20,
     "metadata": {},
     "output_type": "execute_result"
    },
    {
     "data": {
      "image/png": "[encoded data removed]",
      "text/plain": [
       "<Figure size 360x360 with 1 Axes>"
      ]
     },
     "metadata": {
      "needs_background": "light"
     },
     "output_type": "display_data"
    }
   ],
   "source": [
    "# 1 task\n",
    "import scipy as sc\n",
    "import scipy.interpolate as inter\n",
    "x_test = np.arange(0, 100, 0.005)\n",
    "y_test = inter.barycentric_interpolate(xi = x, yi = y, x = x_test)\n",
    "#print(x_test)\n",
    "#y_test = func(x_test)\n",
    "plt.scatter(x, y)\n",
    "plt.ylim((-500,500))\n",
    "plt.plot(x_test, y_test, color = \"red\")"
   ]
  },
  {
   "cell_type": "markdown",
   "metadata": {},
   "source": [
    "# 2 task\n",
    "\n",
    "class BarycentricInterpolator(_Interpolator1D)\n",
    "\n",
    "    def __init__(self, xi, yi=None, axis=0):\n",
    "        _Interpolator1D.__init__(self, xi, yi, axis)\n",
    "\n",
    "        self.xi = np.asfarray(xi)\n",
    "        self.set_yi(yi)\n",
    "        self.n = len(self.xi)\n",
    "        self._inv_capacity = 4.0 / (np.max(self.xi) - np.min(self.xi))\n",
    "        permute = np.random.permutation(self.n)\n",
    "        inv_permute = np.zeros(self.n, dtype=np.int32)\n",
    "        inv_permute[permute] = np.arange(self.n)\n",
    "\n",
    "        self.wi = np.zeros(self.n)\n",
    "        for i in range(self.n):\n",
    "            dist = self._inv_capacity * (self.xi[i] - self.xi[permute])\n",
    "            dist[inv_permute[i]] = 1.0\n",
    "            self.wi[i] = 1.0 / np.prod(dist)\n",
    "\n",
    "    def set_yi(self, yi, axis=None):\n",
    "        if yi is None:\n",
    "            self.yi = None\n",
    "            return\n",
    "        self._set_yi(yi, xi=self.xi, axis=axis)\n",
    "        self.yi = self._reshape_yi(yi)\n",
    "        self.n, self.r = self.yi.shape\n",
    "\n",
    "    def add_xi(self, xi, yi=None):\n",
    "        if yi is not None:\n",
    "            if self.yi is None:\n",
    "                raise ValueError(\"No previous yi value to update!\")\n",
    "            yi = self._reshape_yi(yi, check=True)\n",
    "            self.yi = np.vstack((self.yi,yi))\n",
    "        else:\n",
    "            if self.yi is not None:\n",
    "                raise ValueError(\"No update to yi provided!\")\n",
    "        old_n = self.n\n",
    "        self.xi = np.concatenate((self.xi,xi))\n",
    "        self.n = len(self.xi)\n",
    "        self.wi **= -1\n",
    "        old_wi = self.wi\n",
    "        self.wi = np.zeros(self.n)\n",
    "        self.wi[:old_n] = old_wi\n",
    "        for j in range(old_n, self.n):\n",
    "            self.wi[:j] *= self._inv_capacity * (self.xi[j]-self.xi[:j])\n",
    "            self.wi[j] = np.multiply.reduce(\n",
    "                self._inv_capacity * (self.xi[:j]-self.xi[j])\n",
    "            )\n",
    "        self.wi **= -1\n",
    "\n",
    "    def __call__(self, x):\n",
    "        return _Interpolator1D.__call__(self, x)\n",
    "\n",
    "    def _evaluate(self, x):\n",
    "        if x.size == 0:\n",
    "            p = np.zeros((0, self.r), dtype=self.dtype)\n",
    "        else:\n",
    "            c = x[..., np.newaxis] - self.xi\n",
    "            z = c == 0\n",
    "            c[z] = 1\n",
    "            c = self.wi/c\n",
    "            with np.errstate(divide='ignore'):\n",
    "                p = np.dot(c, self.yi) / np.sum(c, axis=-1)[..., np.newaxis]\n",
    "            # Now fix where x==some xi\n",
    "            r = np.nonzero(z)\n",
    "            if len(r) == 1:  # evaluation at a scalar\n",
    "                if len(r[0]) > 0:  # equals one of the points\n",
    "                    p = self.yi[r[0][0]]\n",
    "            else:\n",
    "                p[r[:-1]] = self.yi[r[-1]]\n",
    "        return p"
   ]
  },
  {
   "cell_type": "markdown",
   "metadata": {},
   "source": [
    "class _Interpolator1D:\n",
    "\n",
    "    __slots__ = ('_y_axis', '_y_extra_shape', 'dtype')\n",
    "\n",
    "    def __init__(self, xi=None, yi=None, axis=None):\n",
    "        self._y_axis = axis\n",
    "        self._y_extra_shape = None\n",
    "        self.dtype = None\n",
    "        if yi is not None:\n",
    "            self._set_yi(yi, xi=xi, axis=axis)\n",
    "\n",
    "    def __call__(self, x):\n",
    "        x, x_shape = self._prepare_x(x)\n",
    "        y = self._evaluate(x)\n",
    "        return self._finish_y(y, x_shape)\n",
    "\n",
    "    def _evaluate(self, x):\n",
    "        raise NotImplementedError()\n",
    "\n",
    "    def _prepare_x(self, x):\n",
    "        \"\"\"Reshape input x array to 1-D\"\"\"\n",
    "        x = _asarray_validated(x, check_finite=False, as_inexact=True)\n",
    "        x_shape = x.shape\n",
    "        return x.ravel(), x_shape\n",
    "\n",
    "    def _finish_y(self, y, x_shape):\n",
    "        \"\"\"Reshape interpolated y back to an N-D array similar to initial y\"\"\"\n",
    "        y = y.reshape(x_shape + self._y_extra_shape)\n",
    "        if self._y_axis != 0 and x_shape != ():\n",
    "            nx = len(x_shape)\n",
    "            ny = len(self._y_extra_shape)\n",
    "            s = (list(range(nx, nx + self._y_axis))\n",
    "                 + list(range(nx)) + list(range(nx+self._y_axis, nx+ny)))\n",
    "            y = y.transpose(s)\n",
    "        return y\n",
    "\n",
    "    def _reshape_yi(self, yi, check=False):\n",
    "        yi = np.moveaxis(np.asarray(yi), self._y_axis, 0)\n",
    "        if check and yi.shape[1:] != self._y_extra_shape:\n",
    "            ok_shape = \"%r + (N,) + %r\" % (self._y_extra_shape[-self._y_axis:],\n",
    "                                           self._y_extra_shape[:-self._y_axis])\n",
    "            raise ValueError(\"Data must be of shape %s\" % ok_shape)\n",
    "        return yi.reshape((yi.shape[0], -1))\n",
    "\n",
    "    def _set_yi(self, yi, xi=None, axis=None):\n",
    "        if axis is None:\n",
    "            axis = self._y_axis\n",
    "        if axis is None:\n",
    "            raise ValueError(\"no interpolation axis specified\")\n",
    "\n",
    "        yi = np.asarray(yi)\n",
    "\n",
    "        shape = yi.shape\n",
    "        if shape == ():\n",
    "            shape = (1,)\n",
    "        if xi is not None and shape[axis] != len(xi):\n",
    "            raise ValueError(\"x and y arrays must be equal in length along \"\n",
    "                             \"interpolation axis.\")\n",
    "\n",
    "        self._y_axis = (axis % yi.ndim)\n",
    "        self._y_extra_shape = yi.shape[:self._y_axis]+yi.shape[self._y_axis+1:]\n",
    "        self.dtype = None\n",
    "        self._set_dtype(yi.dtype)\n",
    "\n",
    "    def _set_dtype(self, dtype, union=False):\n",
    "        if np.issubdtype(dtype, np.complexfloating) \\\n",
    "               or np.issubdtype(self.dtype, np.complexfloating):\n",
    "            self.dtype = np.complex_\n",
    "        else:\n",
    "            if not union or self.dtype != np.complex_:\n",
    "                self.dtype = np.float_"
   ]
  },
  {
   "cell_type": "markdown",
   "metadata": {},
   "source": [
    "## Lagrange Interpolator"
   ]
  },
  {
   "cell_type": "code",
   "execution_count": 35,
   "metadata": {},
   "outputs": [
    {
     "data": {
      "text/plain": [
       "[<matplotlib.lines.Line2D at 0x210973b79b0>]"
      ]
     },
     "execution_count": 35,
     "metadata": {},
     "output_type": "execute_result"
    },
    {
     "data": {
      "image/png": "[encoded data removed]",
      "text/plain": [
       "<Figure size 360x360 with 1 Axes>"
      ]
     },
     "metadata": {
      "needs_background": "light"
     },
     "output_type": "display_data"
    }
   ],
   "source": [
    "# 3 task\n",
    "from numpy import poly1d\n",
    "def LagrangePoly(xi, yi):\n",
    "    p = np.poly1d(0.0)\n",
    "    size = len(xi)\n",
    "    for j in range(size):\n",
    "        curr = poly1d(yi[j])\n",
    "        for k in range(size):\n",
    "            if k == j:\n",
    "                continue\n",
    "            curr *= poly1d([1.0, -xi[k]])/(xi[j]-xi[k])\n",
    "        p += curr\n",
    "    return p\n",
    "def lagrange_interpolate(xi, yi, x):\n",
    "    return LagrangePoly(xi, yi)(x)\n",
    "poly = LagrangePoly(x, y)\n",
    "y_test = poly(x_test)\n",
    "plt.scatter(x, y)\n",
    "plt.ylim((-500,600))\n",
    "plt.plot(x_test, y_test, color = \"red\")"
   ]
  },
  {
   "cell_type": "markdown",
   "metadata": {
    "id": "alleged-tooth"
   },
   "source": [
    "# 3. Быстрая гистограмма\n",
    "\n",
    "Иногда хочется получить дискретное распределение из N колонок. Но пока что для этого у нас есть только plt.hist(), которая тратит много времени на отрисовку графика. Вам предлагается реализовать свою функцию построения дискретного распределения\n",
    "\n",
    "1. Алгоритм должен получать на вход список чисел и количество колонок гистограммы. Возвращать нужно значения столбцов (ось абсцисс гистограммы) и количество значений, принадлежащее столбцу (ось ординат гистограммы). Пример с использованием plt показан ниже, сигнатура функции также показана ниже\n",
    "1. Изучите функцию [plt.bar](https://matplotlib.org/stable/api/_as_gen/matplotlib.pyplot.bar.html). Это такая же гистограмма как plt.hist, но в отличие от hist требуется явно указывать высоту колонок и их название\n",
    "1. С помощью результатов своего алгоритма и plt.bar постройте гистограмму по массиву из 50+ случайных чисел. Графики plt.bar по вашему алгоритму и plt.hist() должны совпадать, что подтвердит корректность работы вашего алгоритма\n",
    "1. Сравните скорость построения распределения по массиву чисел с помощью своего алгоритма и с помощью plt.hist. В jupyter рекомендуется использовать built-in magic commands, а именно timeit. Но можно обойтись и ручными измерениями времени выполнения"
   ]
  },
  {
   "cell_type": "code",
   "execution_count": 22,
   "metadata": {
    "id": "harmful-settle",
    "outputId": "02c41492-3015-4dc5-a4ce-c473078fe9fe",
    "scrolled": true
   },
   "outputs": [
    {
     "name": "stdout",
     "output_type": "stream",
     "text": [
      "Значения колонок: [3. 2. 2. 2.]\n",
      "Названия колонок: [1.   1.75 2.5  3.25 4.  ]\n"
     ]
    },
    {
     "data": {
      "image/png": "[encoded data removed]",
      "text/plain": [
       "<Figure size 360x360 with 1 Axes>"
      ]
     },
     "metadata": {
      "needs_background": "light"
     },
     "output_type": "display_data"
    }
   ],
   "source": [
    "# Пример гистограммы с помощью plt.hist()\n",
    "import matplotlib.pyplot as plt\n",
    "\n",
    "array = [1,1,2,3,4,1,2,3,4]\n",
    "\n",
    "value_counts, bins_names, visual_figure = plt.hist(array, \n",
    "                                                   bins=len(set(array)), \n",
    "                                                   rwidth=0.9)\n",
    "# Параметр rwidth и визуализацию в своей функции реализовывать не требуется\n",
    "print('Значения колонок:', value_counts)\n",
    "print('Названия колонок:', bins_names)"
   ]
  },
  {
   "cell_type": "code",
   "execution_count": 23,
   "metadata": {
    "id": "parliamentary-worker"
   },
   "outputs": [],
   "source": [
    "from typing import List, Tuple, Union\n",
    "\n",
    "def fast_hist(array: List[Union[int, float]], \n",
    "              bins: int) -> Tuple[List[int], List[float]]:\n",
    "    \"\"\"\n",
    "    Builds bins' labels and bins' value counts for given array\n",
    "    :param array: array with numeric values\n",
    "    :param bins:  number of bins in result distribution\n",
    "    :return: Two lists: \n",
    "             first contains value counts of each bin,\n",
    "             second contains list of bins' labels\n",
    "    \"\"\"\n",
    "    \n",
    "    max_item = np.max(array)\n",
    "    min_item = np.min(array)\n",
    "    step = (max_item - min_item) / bins\n",
    "    bins_names = np.linspace(min_item, max_item, bins+1, True)\n",
    "    value_counts = [0] * (bins)\n",
    "    for item in array:\n",
    "        #print((int)((item-min_item) // step))\n",
    "        if (item == max_item):\n",
    "            value_counts[-1] += 1\n",
    "        else:\n",
    "            value_counts[(int)((item-min_item) // step)] += 1\n",
    "    return (value_counts, bins_names)"
   ]
  },
  {
   "cell_type": "code",
   "execution_count": 24,
   "metadata": {
    "id": "automated-prince",
    "scrolled": true
   },
   "outputs": [
    {
     "name": "stdout",
     "output_type": "stream",
     "text": [
      "[3, 2, 2, 2] [1.   1.75 2.5  3.25 4.  ]\n"
     ]
    },
    {
     "data": {
      "text/plain": [
       "<BarContainer object of 4 artists>"
      ]
     },
     "execution_count": 24,
     "metadata": {},
     "output_type": "execute_result"
    },
    {
     "data": {
      "image/png": "[encoded data removed]",
      "text/plain": [
       "<Figure size 360x360 with 1 Axes>"
      ]
     },
     "metadata": {
      "needs_background": "light"
     },
     "output_type": "display_data"
    }
   ],
   "source": [
    "value_counts, bins_names = fast_hist(array, len(set(array)))\n",
    "print(value_counts, bins_names)\n",
    "plt.bar(bins_names[:-1], value_counts, align = \"edge\", width = 0.7)"
   ]
  },
  {
   "cell_type": "code",
   "execution_count": 25,
   "metadata": {},
   "outputs": [],
   "source": [
    "import pandas as pd\n",
    "import numpy as np\n",
    "import numpy.random as rnd\n",
    "import matplotlib.pyplot as plt"
   ]
  },
  {
   "cell_type": "code",
   "execution_count": 37,
   "metadata": {},
   "outputs": [],
   "source": [
    "def compare(size = 50, low = 0, high = 10):\n",
    "    test_array = rnd.rand(size) * (high - low) + low\n",
    "    print(test_array)\n",
    "    test_bins = 30\n",
    "    print(\"plt.hist time\")\n",
    "    %timeit plt.hist(test_array, bins=test_bins)\n",
    "    value_counts1, bins_names1, visual_figure = plt.hist(test_array, bins=test_bins, rwidth=0.9)\n",
    "    #print(\"plt.hist result\", value_counts1, bins_names1)\n",
    "    print(\"my hist time\")\n",
    "    %timeit fast_hist(test_array, test_bins)\n",
    "    value_counts2, bins_names2 = fast_hist(test_array, test_bins)\n",
    "    #print(\"my hist result\", value_counts2, bins_names2)\n",
    "    comparing = np.array_equal(value_counts1, value_counts2) and np.array_equal(bins_names1, bins_names2)\n",
    "    print(\"Hists are equal: \", comparing)\n",
    "    plt.bar(bins_names2[:-1], value_counts2, align = \"edge\", width = 0.7)\n",
    "    plt.show()\n",
    "    "
   ]
  },
  {
   "cell_type": "code",
   "execution_count": 38,
   "metadata": {},
   "outputs": [
    {
     "name": "stdout",
     "output_type": "stream",
     "text": [
      "[6.96275979 1.80366429 0.65808728 4.18644134 9.09968831 8.96551655\n",
      " 0.97531561 6.86817726 3.50569635 1.45016522 4.10334659 5.77714936\n",
      " 0.78217163 5.79438957 2.00343438 8.94504986 9.23959391 8.96464197\n",
      " 3.78813488 0.81633022 9.38787922 3.27254876 1.26881538 1.52994724\n",
      " 1.93909481 7.29162329 6.0773272  9.85834508 7.6108189  6.44265941\n",
      " 7.39172624 5.00549291 2.86553347 1.81824504 3.90711058 6.09312932\n",
      " 6.34446277 4.97680546 5.29407635 9.00181387 2.63098067 3.30646534\n",
      " 8.08256894 8.19535069 5.89624849 7.07189897 5.07001917 7.11794024\n",
      " 3.89341748 9.7708083 ]\n",
      "plt.hist time\n",
      "73 ms ± 15.1 ms per loop (mean ± std. dev. of 7 runs, 10 loops each)\n",
      "my hist time\n",
      "222 µs ± 14.2 µs per loop (mean ± std. dev. of 7 runs, 1000 loops each)\n",
      "Hists are equal:  True\n"
     ]
    },
    {
     "data": {
      "image/png": "[encoded data removed]",
      "text/plain": [
       "<Figure size 360x360 with 1 Axes>"
      ]
     },
     "metadata": {
      "needs_background": "light"
     },
     "output_type": "display_data"
    }
   ],
   "source": [
    "compare()"
   ]
  }
 ],
 "metadata": {
  "colab": {
   "collapsed_sections": [],
   "name": "Lab-1.ipynb",
   "provenance": []
  },
  "kernelspec": {
   "display_name": "Python 3",
   "language": "python",
   "name": "python3"
  },
  "language_info": {
   "codemirror_mode": {
    "name": "ipython",
    "version": 3
   },
   "file_extension": ".py",
   "mimetype": "text/x-python",
   "name": "python",
   "nbconvert_exporter": "python",
   "pygments_lexer": "ipython3",
   "version": "3.7.0"
  }
 },
 "nbformat": 4,
 "nbformat_minor": 5
}
