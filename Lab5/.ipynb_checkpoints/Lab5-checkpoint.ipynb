{
 "cells": [
  {
   "cell_type": "markdown",
   "metadata": {},
   "source": [
    "## Задание 1. Как учитывать заголовок?"
   ]
  },
  {
   "cell_type": "markdown",
   "metadata": {},
   "source": [
    "Для экономии ресурсов можно вообще пытаться оценивать по заголовку, так как мы часто можем определить ещё по заоловку письма спам это или нет. Но с другой стороны, заголовок лишь помогает суммировать то, что в тексте, поэтому его можно обрабатывать наравне с текстом или вообщещ не обрабатывать."
   ]
  },
  {
   "cell_type": "markdown",
   "metadata": {},
   "source": [
    "## Задание 2. Векторизация текста"
   ]
  },
  {
   "cell_type": "code",
   "execution_count": 6,
   "metadata": {},
   "outputs": [],
   "source": [
    "import csv\n",
    "import os\n",
    "\n",
    "folder = os.path.dirname(\"C:\\\\Users\\\\agata\\\\Documents\\\\itmo\\\\andan\\\\Lab5\\\\messages\\\\\")\n",
    "file_list = os.listdir(folder)\n",
    "#print(folder_list)\n",
    "\n",
    "with open(\"data.csv\", \"w\") as outfile:\n",
    "    writer = csv.writer(outfile)\n",
    "    writer.writerow(['name', 'subject','message'])\n",
    "    for file in file_list:\n",
    "            with open(os.path.join(folder, file), \"r\")  as infile:\n",
    "                contents = infile.read().split(\"\\n\\n\")\n",
    "                outfile.write(file+',')\n",
    "                outfile.write(contents[0] + ',')\n",
    "                outfile.write(contents[1])\n",
    "                "
   ]
  },
  {
   "cell_type": "code",
   "execution_count": 1,
   "metadata": {},
   "outputs": [],
   "source": [
    "import pandas as pd\n",
    "import numpy as np\n",
    "import matplotlib.pyplot as plt"
   ]
  },
  {
   "cell_type": "code",
   "execution_count": 2,
   "metadata": {},
   "outputs": [
    {
     "data": {
      "text/html": [
       "<div>\n",
       "<style scoped>\n",
       "    .dataframe tbody tr th:only-of-type {\n",
       "        vertical-align: middle;\n",
       "    }\n",
       "\n",
       "    .dataframe tbody tr th {\n",
       "        vertical-align: top;\n",
       "    }\n",
       "\n",
       "    .dataframe thead th {\n",
       "        text-align: right;\n",
       "    }\n",
       "</style>\n",
       "<table border=\"1\" class=\"dataframe\">\n",
       "  <thead>\n",
       "    <tr style=\"text-align: right;\">\n",
       "      <th></th>\n",
       "      <th>name</th>\n",
       "      <th>subject</th>\n",
       "      <th>message</th>\n",
       "    </tr>\n",
       "  </thead>\n",
       "  <tbody>\n",
       "    <tr>\n",
       "      <th>0</th>\n",
       "      <td>100legit29.txt</td>\n",
       "      <td>Subject: 2056 118 22577 20908 14616</td>\n",
       "      <td>284 14851 80 16147 17345 14338 130 19410 47 58...</td>\n",
       "    </tr>\n",
       "    <tr>\n",
       "      <th>1</th>\n",
       "      <td>101002legit41.txt</td>\n",
       "      <td>Subject: 2056 118 14140 84 13147 1613 383 80 1...</td>\n",
       "      <td>284 4353 47 17011 15691 9997 18783 1613 1613 9...</td>\n",
       "    </tr>\n",
       "    <tr>\n",
       "      <th>2</th>\n",
       "      <td>101006legit31.txt</td>\n",
       "      <td>Subject: 2056 118 10542 1359 2268 1822</td>\n",
       "      <td>8962 180 2331 1967 4602 24704 196 18464 2130 9...</td>\n",
       "    </tr>\n",
       "    <tr>\n",
       "      <th>3</th>\n",
       "      <td>101011spmsg62.txt</td>\n",
       "      <td>Subject: 20259 82 23231 86 16667 82 9634 86 16...</td>\n",
       "      <td>7062 118 22880 4177 5762 80 17713 2519 13406 1...</td>\n",
       "    </tr>\n",
       "    <tr>\n",
       "      <th>4</th>\n",
       "      <td>101019spmsg88.txt</td>\n",
       "      <td>Subject: 22180 14988 47</td>\n",
       "      <td>10769 13520 19074 51 305 51 16263 16296 19054 ...</td>\n",
       "    </tr>\n",
       "    <tr>\n",
       "      <th>...</th>\n",
       "      <td>...</td>\n",
       "      <td>...</td>\n",
       "      <td>...</td>\n",
       "    </tr>\n",
       "    <tr>\n",
       "      <th>1085</th>\n",
       "      <td>9975legit14.txt</td>\n",
       "      <td>Subject: 2056 118 11457 17524 15836 68 11521 4...</td>\n",
       "      <td>16733 19054 118 6306 118 86 86 17212 84 1672 8...</td>\n",
       "    </tr>\n",
       "    <tr>\n",
       "      <th>1086</th>\n",
       "      <td>9979spmsg74.txt</td>\n",
       "      <td>Subject: 4053 4074 4532</td>\n",
       "      <td>10179 1968 15193 1812 17345 21366 16502 17154 ...</td>\n",
       "    </tr>\n",
       "    <tr>\n",
       "      <th>1087</th>\n",
       "      <td>9990legit50.txt</td>\n",
       "      <td>Subject: 2056 118 21215 1662 1835 10470</td>\n",
       "      <td>284 13383 80 127 24731 2328 2130 130 21196 84 ...</td>\n",
       "    </tr>\n",
       "    <tr>\n",
       "      <th>1088</th>\n",
       "      <td>9994legit44.txt</td>\n",
       "      <td>Subject: 20787</td>\n",
       "      <td>183 180 205 205 191 214 227 219 180 219 190 22...</td>\n",
       "    </tr>\n",
       "    <tr>\n",
       "      <th>1089</th>\n",
       "      <td>9996spmsg86.txt</td>\n",
       "      <td>Subject: 14444 118</td>\n",
       "      <td>23422 22913 5987 13520 59 819 84 951 15845 492...</td>\n",
       "    </tr>\n",
       "  </tbody>\n",
       "</table>\n",
       "<p>1090 rows × 3 columns</p>\n",
       "</div>"
      ],
      "text/plain": [
       "                   name                                            subject  \\\n",
       "0        100legit29.txt                Subject: 2056 118 22577 20908 14616   \n",
       "1     101002legit41.txt  Subject: 2056 118 14140 84 13147 1613 383 80 1...   \n",
       "2     101006legit31.txt             Subject: 2056 118 10542 1359 2268 1822   \n",
       "3     101011spmsg62.txt  Subject: 20259 82 23231 86 16667 82 9634 86 16...   \n",
       "4     101019spmsg88.txt                            Subject: 22180 14988 47   \n",
       "...                 ...                                                ...   \n",
       "1085    9975legit14.txt  Subject: 2056 118 11457 17524 15836 68 11521 4...   \n",
       "1086    9979spmsg74.txt                            Subject: 4053 4074 4532   \n",
       "1087    9990legit50.txt            Subject: 2056 118 21215 1662 1835 10470   \n",
       "1088    9994legit44.txt                                     Subject: 20787   \n",
       "1089    9996spmsg86.txt                                 Subject: 14444 118   \n",
       "\n",
       "                                                message  \n",
       "0     284 14851 80 16147 17345 14338 130 19410 47 58...  \n",
       "1     284 4353 47 17011 15691 9997 18783 1613 1613 9...  \n",
       "2     8962 180 2331 1967 4602 24704 196 18464 2130 9...  \n",
       "3     7062 118 22880 4177 5762 80 17713 2519 13406 1...  \n",
       "4     10769 13520 19074 51 305 51 16263 16296 19054 ...  \n",
       "...                                                 ...  \n",
       "1085  16733 19054 118 6306 118 86 86 17212 84 1672 8...  \n",
       "1086  10179 1968 15193 1812 17345 21366 16502 17154 ...  \n",
       "1087  284 13383 80 127 24731 2328 2130 130 21196 84 ...  \n",
       "1088  183 180 205 205 191 214 227 219 180 219 190 22...  \n",
       "1089  23422 22913 5987 13520 59 819 84 951 15845 492...  \n",
       "\n",
       "[1090 rows x 3 columns]"
      ]
     },
     "execution_count": 2,
     "metadata": {},
     "output_type": "execute_result"
    }
   ],
   "source": [
    "data = pd.read_csv(\"data.csv\")\n",
    "data"
   ]
  },
  {
   "cell_type": "code",
   "execution_count": 3,
   "metadata": {},
   "outputs": [
    {
     "data": {
      "text/html": [
       "<div>\n",
       "<style scoped>\n",
       "    .dataframe tbody tr th:only-of-type {\n",
       "        vertical-align: middle;\n",
       "    }\n",
       "\n",
       "    .dataframe tbody tr th {\n",
       "        vertical-align: top;\n",
       "    }\n",
       "\n",
       "    .dataframe thead th {\n",
       "        text-align: right;\n",
       "    }\n",
       "</style>\n",
       "<table border=\"1\" class=\"dataframe\">\n",
       "  <thead>\n",
       "    <tr style=\"text-align: right;\">\n",
       "      <th></th>\n",
       "      <th>subject</th>\n",
       "      <th>message</th>\n",
       "      <th>is_spam</th>\n",
       "      <th>is_legit</th>\n",
       "    </tr>\n",
       "  </thead>\n",
       "  <tbody>\n",
       "    <tr>\n",
       "      <th>count</th>\n",
       "      <td>1090</td>\n",
       "      <td>1090</td>\n",
       "      <td>1090</td>\n",
       "      <td>1090</td>\n",
       "    </tr>\n",
       "    <tr>\n",
       "      <th>unique</th>\n",
       "      <td>936</td>\n",
       "      <td>1062</td>\n",
       "      <td>2</td>\n",
       "      <td>2</td>\n",
       "    </tr>\n",
       "    <tr>\n",
       "      <th>top</th>\n",
       "      <td></td>\n",
       "      <td>19054 1847 15691 18844 123 17345 13472 9537 19...</td>\n",
       "      <td>False</td>\n",
       "      <td>True</td>\n",
       "    </tr>\n",
       "    <tr>\n",
       "      <th>freq</th>\n",
       "      <td>23</td>\n",
       "      <td>5</td>\n",
       "      <td>610</td>\n",
       "      <td>610</td>\n",
       "    </tr>\n",
       "  </tbody>\n",
       "</table>\n",
       "</div>"
      ],
      "text/plain": [
       "       subject                                            message is_spam  \\\n",
       "count     1090                                               1090    1090   \n",
       "unique     936                                               1062       2   \n",
       "top             19054 1847 15691 18844 123 17345 13472 9537 19...   False   \n",
       "freq        23                                                  5     610   \n",
       "\n",
       "       is_legit  \n",
       "count      1090  \n",
       "unique        2  \n",
       "top        True  \n",
       "freq        610  "
      ]
     },
     "execution_count": 3,
     "metadata": {},
     "output_type": "execute_result"
    }
   ],
   "source": [
    "final_data = data.copy()\n",
    "final_data.subject = final_data.subject.map(lambda sub: sub.replace(\"Subject: \", ''))\n",
    "final_data['is_spam'] = final_data.name.map(lambda name: \"spmsg\" in name)\n",
    "final_data['is_legit'] = final_data.name.map(lambda name: \"legit\" in name)\n",
    "final_data.drop('name', inplace = True, axis =1)\n",
    "final_data.to_csv('final_data.csv', index=False)\n",
    "final_data.describe()"
   ]
  },
  {
   "cell_type": "code",
   "execution_count": 34,
   "metadata": {},
   "outputs": [],
   "source": [
    "from scipy.sparse import hstack\n",
    "def vectorize_data(data, vectorize_data_column, columns = ['subject', 'message'], is_train = True, vectorizers = None):\n",
    "    assert is_train == (vectorizers is None)\n",
    "    vectorized_datas = []\n",
    "    if is_train:     \n",
    "        vectorizers = {}\n",
    "        for column in columns:\n",
    "            vectorizer, vectorized_data = vectorize_data_column(data, column, is_train)\n",
    "            vectorizers[column] = vectorizer\n",
    "            vectorized_datas.append(vectorized_data)\n",
    "        return vectorizers, hstack(vectorized_datas)\n",
    "    else:\n",
    "        for column in columns:\n",
    "            vectorized_data = vectorize_data_column(data, column, is_train, vectorizer = vectorizers[column])\n",
    "            vectorized_datas.append(vectorized_data)\n",
    "        return hstack(vectorized_datas)"
   ]
  },
  {
   "cell_type": "code",
   "execution_count": 12,
   "metadata": {},
   "outputs": [],
   "source": [
    "df = pd.read_csv(\"final_data.csv\")\n",
    "df['all'] = df['subject'].map(str) + \" \" + df['message'].map(str)"
   ]
  },
  {
   "cell_type": "code",
   "execution_count": 10,
   "metadata": {},
   "outputs": [],
   "source": [
    "from sklearn.model_selection import train_test_split\n",
    "train, test = train_test_split(df, test_size = 0.2)\n",
    "train_y = train.is_spam.astype(int)\n",
    "test_y = test.is_spam.astype(int)"
   ]
  },
  {
   "cell_type": "code",
   "execution_count": 52,
   "metadata": {},
   "outputs": [],
   "source": [
    "from sklearn.preprocessing import OneHotEncoder\n",
    "from sklearn.feature_extraction.text import CountVectorizer\n",
    "def count_vectorize(data, column, is_train, vectorizer = None):\n",
    "    if is_train:\n",
    "        vectorizer = CountVectorizer()\n",
    "        vect_data = vectorizer.fit_transform(data[column].values.astype('U'))\n",
    "        return vectorizer, vect_data\n",
    "    else:\n",
    "        vect_data = vectorizer.transform(data[column].values.astype('U'))\n",
    "        return vect_data"
   ]
  },
  {
   "cell_type": "code",
   "execution_count": 80,
   "metadata": {},
   "outputs": [],
   "source": [
    "def binary_vectorize(data, column, is_train, vectorizer = None):\n",
    "    if is_train:\n",
    "        vectorizer = CountVectorizer(binary = True)\n",
    "        vect_data = vectorizer.fit_transform(data[column].values.astype('U'))\n",
    "        return vectorizer, vect_data\n",
    "    else:\n",
    "        vect_data = vectorizer.transform(data[column].values.astype('U'))\n",
    "        return vect_data"
   ]
  },
  {
   "cell_type": "code",
   "execution_count": 76,
   "metadata": {},
   "outputs": [],
   "source": [
    "from sklearn.feature_extraction.text import TfidfVectorizer\n",
    "def tfidf_vectorize(data, column, is_train, vectorizer = None):\n",
    "    if is_train:\n",
    "        vectorizer = TfidfVectorizer()\n",
    "        vect_data = vectorizer.fit_transform(data[column].values.astype('U'))\n",
    "        return vectorizer, vect_data\n",
    "    else:\n",
    "        vect_data = vectorizer.transform(data[column].values.astype('U'))\n",
    "        return vect_data"
   ]
  },
  {
   "cell_type": "code",
   "execution_count": 82,
   "metadata": {},
   "outputs": [],
   "source": [
    "#has_subject = True|False\n",
    "#vectoriser = 'Count', 'Tf-IDF', 'Binary'\n",
    "def train_test_X(has_subject, vectorizer):\n",
    "    \n",
    "    if vectorizer == \"Count\":\n",
    "        vectorize_data_column = count_vectorize\n",
    "    elif vectorizer == 'Tf-IDF':\n",
    "        vectorize_data_column = tfidf_vectorize\n",
    "    elif vectorizer == 'Binary':\n",
    "        vectorize_data_column = binary_vectorize\n",
    "    if has_subject:\n",
    "        vectorizers, train_X = vectorize_data(train, vectorize_data_column)\n",
    "        #print(vectorizers)\n",
    "        test_X = vectorize_data(test, vectorize_data_column, is_train = False, vectorizers = vectorizers)\n",
    "    else:\n",
    "        vectorizers, train_X = vectorize_data(train, vectorize_data_column, columns = ['all'])\n",
    "        test_X = vectorize_data(test, vectorize_data_column, is_train = False, vectorizers = vectorizers, columns = ['all'])\n",
    "    return train_X, test_X"
   ]
  },
  {
   "cell_type": "code",
   "execution_count": 56,
   "metadata": {},
   "outputs": [],
   "source": [
    "# try count vectorizer with separated data\n",
    "train_X, test_X = train_test_X(True, 'Count')"
   ]
  },
  {
   "cell_type": "code",
   "execution_count": 158,
   "metadata": {},
   "outputs": [],
   "source": [
    "from sklearn.naive_bayes import MultinomialNB\n",
    "from sklearn.model_selection import RandomizedSearchCV, GridSearchCV\n",
    "def predict(train, test):\n",
    "    clf = MultinomialNB()\n",
    "    '''params = {'alpha': np.arange(0.1, 1.0, 0.1)}\n",
    "    clf_learned = GridSearchCV(clf, params)'''\n",
    "    clf.fit(train, train_y)\n",
    "    pred = clf.predict_proba(test)\n",
    "    #print(pred)\n",
    "    return clf, pred\n",
    "clf, pred = predict(train_X, test_X)"
   ]
  },
  {
   "cell_type": "code",
   "execution_count": 159,
   "metadata": {},
   "outputs": [
    {
     "name": "stdout",
     "output_type": "stream",
     "text": [
      "218 436 218\n",
      "0.02339725811343603\n"
     ]
    }
   ],
   "source": [
    "from sklearn.metrics import mean_absolute_percentage_error\n",
    "def compare(pred):\n",
    "    diff = 0\n",
    "    print(test.shape[0], pred.size, test_y.size)\n",
    "    '''for i in range (test.shape[0]):\n",
    "        if(pred[i] != test_y.values[i]):\n",
    "            diff += 1\n",
    "    print(diff, \"/\", test.shape[0])'''\n",
    "    print(mean_absolute_percentage_error(2**pred[::,1],2**test_y))\n",
    "compare(pred)"
   ]
  },
  {
   "cell_type": "code",
   "execution_count": 160,
   "metadata": {},
   "outputs": [],
   "source": [
    "#has_subject = True|False\n",
    "#vectoriser = 'Count', 'Tf-IDF', 'Binary'\n",
    "def fit_and_predict(has_subject, vectorizer):\n",
    "    print(\"Subject and message separated\" if has_subject else \"Subject and message united\")\n",
    "    print(\"Vectroizer is \" + vectorizer)\n",
    "    train_X, test_X = train_test_X(has_subject, vectorizer)\n",
    "    clf, pred = predict(train_X, test_X)\n",
    "    compare(pred)\n",
    "    return clf, pred"
   ]
  },
  {
   "cell_type": "markdown",
   "metadata": {},
   "source": [
    "## Comparing"
   ]
  },
  {
   "cell_type": "code",
   "execution_count": 161,
   "metadata": {},
   "outputs": [
    {
     "name": "stdout",
     "output_type": "stream",
     "text": [
      "Subject and message separated\n",
      "Vectroizer is Count\n",
      "218 436 218\n",
      "0.02339725811343603\n",
      "Subject and message united\n",
      "Vectroizer is Count\n",
      "218 436 218\n",
      "0.02114942178783253\n"
     ]
    }
   ],
   "source": [
    "_ = fit_and_predict(True, 'Count')\n",
    "_ = fit_and_predict(False, 'Count')"
   ]
  },
  {
   "cell_type": "code",
   "execution_count": 162,
   "metadata": {},
   "outputs": [
    {
     "name": "stdout",
     "output_type": "stream",
     "text": [
      "Subject and message separated\n",
      "Vectroizer is Tf-IDF\n",
      "218 436 218\n",
      "0.08172177820285749\n",
      "Subject and message united\n",
      "Vectroizer is Tf-IDF\n",
      "218 436 218\n",
      "0.1437131699064588\n"
     ]
    }
   ],
   "source": [
    "_ = fit_and_predict(True, 'Tf-IDF')\n",
    "_ = fit_and_predict(False, 'Tf-IDF')"
   ]
  },
  {
   "cell_type": "code",
   "execution_count": 163,
   "metadata": {},
   "outputs": [
    {
     "name": "stdout",
     "output_type": "stream",
     "text": [
      "Subject and message separated\n",
      "Vectroizer is Binary\n",
      "218 436 218\n",
      "0.012871642693463078\n",
      "Subject and message united\n",
      "Vectroizer is Binary\n",
      "218 436 218\n",
      "0.01279254882202608\n"
     ]
    }
   ],
   "source": [
    "fit_and_predict(True, 'Binary')\n",
    "_ = fit_and_predict(False, 'Binary')"
   ]
  },
  {
   "cell_type": "markdown",
   "metadata": {},
   "source": [
    "## ROC-кривая"
   ]
  },
  {
   "cell_type": "code",
   "execution_count": 164,
   "metadata": {},
   "outputs": [
    {
     "name": "stdout",
     "output_type": "stream",
     "text": [
      "Subject and message united\n",
      "Vectroizer is Binary\n",
      "218 436 218\n",
      "0.01279254882202608\n"
     ]
    }
   ],
   "source": [
    "clf, pred = fit_and_predict(False, 'Binary')"
   ]
  },
  {
   "cell_type": "code",
   "execution_count": 169,
   "metadata": {},
   "outputs": [
    {
     "data": {
      "text/plain": [
       "0.9994907053730584"
      ]
     },
     "execution_count": 169,
     "metadata": {},
     "output_type": "execute_result"
    }
   ],
   "source": [
    "from sklearn.metrics import roc_curve, auc\n",
    "#print(test_y, pred[::, 1])\n",
    "fpr, tpr, _ = roc_curve(test_y, pred[::, 1])\n",
    "#print(fpr, tpr)\n",
    "auc(fpr, tpr)"
   ]
  },
  {
   "cell_type": "code",
   "execution_count": 167,
   "metadata": {},
   "outputs": [
    {
     "data": {
      "text/plain": [
       "[<matplotlib.lines.Line2D at 0x1c6b5f616a0>]"
      ]
     },
     "execution_count": 167,
     "metadata": {},
     "output_type": "execute_result"
    },
    {
     "data": {
      "image/png": "[encoded data removed]",
      "text/plain": [
       "<Figure size 432x288 with 1 Axes>"
      ]
     },
     "metadata": {
      "needs_background": "light"
     },
     "output_type": "display_data"
    }
   ],
   "source": [
    "plt.plot(fpr, tpr)"
   ]
  }
 ],
 "metadata": {
  "kernelspec": {
   "display_name": "Python 3",
   "language": "python",
   "name": "python3"
  },
  "language_info": {
   "codemirror_mode": {
    "name": "ipython",
    "version": 3
   },
   "file_extension": ".py",
   "mimetype": "text/x-python",
   "name": "python",
   "nbconvert_exporter": "python",
   "pygments_lexer": "ipython3",
   "version": "3.7.0"
  }
 },
 "nbformat": 4,
 "nbformat_minor": 2
}
