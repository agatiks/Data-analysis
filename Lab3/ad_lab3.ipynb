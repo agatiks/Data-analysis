{
 "cells": [
  {
   "cell_type": "code",
   "execution_count": 8,
   "metadata": {
    "colab": {
     "base_uri": "https://localhost:8080/"
    },
    "id": "_Hgk6eS8L3kK",
    "outputId": "26e5bc2d-aabf-4c85-ee8d-63eba8a5f648"
   },
   "outputs": [
    {
     "name": "stdout",
     "output_type": "stream",
     "text": [
      "Drive already mounted at /content/drive; to attempt to forcibly remount, call drive.mount(\"/content/drive\", force_remount=True).\n"
     ]
    }
   ],
   "source": [
    "from google.colab import drive\n",
    "drive.mount('/content/drive')"
   ]
  },
  {
   "cell_type": "code",
   "execution_count": 9,
   "metadata": {
    "id": "t5y9hlrpRGBk"
   },
   "outputs": [],
   "source": [
    "import pandas as pd\n",
    "import numpy as np\n",
    "import matplotlib.pyplot as plt\n",
    "\n",
    "test = pd.read_csv('/content/drive/MyDrive/itmo/test_x.csv')\n",
    "train = pd.read_csv('/content/drive/MyDrive/itmo/train.csv')"
   ]
  },
  {
   "cell_type": "markdown",
   "metadata": {
    "id": "FMfadems-l9z"
   },
   "source": [
    "# Преобразование данных"
   ]
  },
  {
   "cell_type": "code",
   "execution_count": 10,
   "metadata": {
    "colab": {
     "base_uri": "https://localhost:8080/",
     "height": 299
    },
    "id": "p28r9WdGRphP",
    "outputId": "11559fe5-9acc-45b7-d442-e0b33ba5a39b"
   },
   "outputs": [
    {
     "data": {
      "text/html": [
       "\n",
       "  <div id=\"df-34865ced-0f06-4017-80d8-fa98a4fa1db7\">\n",
       "    <div class=\"colab-df-container\">\n",
       "      <div>\n",
       "<style scoped>\n",
       "    .dataframe tbody tr th:only-of-type {\n",
       "        vertical-align: middle;\n",
       "    }\n",
       "\n",
       "    .dataframe tbody tr th {\n",
       "        vertical-align: top;\n",
       "    }\n",
       "\n",
       "    .dataframe thead th {\n",
       "        text-align: right;\n",
       "    }\n",
       "</style>\n",
       "<table border=\"1\" class=\"dataframe\">\n",
       "  <thead>\n",
       "    <tr style=\"text-align: right;\">\n",
       "      <th></th>\n",
       "      <th>user_id</th>\n",
       "      <th>org_id</th>\n",
       "      <th>rating</th>\n",
       "      <th>ts</th>\n",
       "      <th>user_city</th>\n",
       "      <th>org_city</th>\n",
       "      <th>average_bill</th>\n",
       "      <th>rating_org</th>\n",
       "      <th>rubrics</th>\n",
       "      <th>food_delivery</th>\n",
       "      <th>...</th>\n",
       "      <th>call_button</th>\n",
       "      <th>wheelchair_accessible</th>\n",
       "      <th>table_games</th>\n",
       "      <th>vinotheque</th>\n",
       "      <th>cakes_for_different_occasions</th>\n",
       "      <th>accepted_credit_cards</th>\n",
       "      <th>kalyan</th>\n",
       "      <th>teahouse</th>\n",
       "      <th>bread_from_tandoor</th>\n",
       "      <th>handmade_goods</th>\n",
       "    </tr>\n",
       "  </thead>\n",
       "  <tbody>\n",
       "    <tr>\n",
       "      <th>0</th>\n",
       "      <td>12182789761588196310</td>\n",
       "      <td>11946401375069641937</td>\n",
       "      <td>4.0</td>\n",
       "      <td>677</td>\n",
       "      <td>msk</td>\n",
       "      <td>msk</td>\n",
       "      <td>1500.0</td>\n",
       "      <td>3.883212</td>\n",
       "      <td>Ресторан</td>\n",
       "      <td>1</td>\n",
       "      <td>...</td>\n",
       "      <td>0</td>\n",
       "      <td>0</td>\n",
       "      <td>0</td>\n",
       "      <td>0</td>\n",
       "      <td>0</td>\n",
       "      <td>0</td>\n",
       "      <td>0</td>\n",
       "      <td>0</td>\n",
       "      <td>0</td>\n",
       "      <td>0</td>\n",
       "    </tr>\n",
       "    <tr>\n",
       "      <th>1</th>\n",
       "      <td>2796544982129273287</td>\n",
       "      <td>5545859981678495568</td>\n",
       "      <td>5.0</td>\n",
       "      <td>577</td>\n",
       "      <td>msk</td>\n",
       "      <td>msk</td>\n",
       "      <td>1000.0</td>\n",
       "      <td>4.495379</td>\n",
       "      <td>Ресторан</td>\n",
       "      <td>1</td>\n",
       "      <td>...</td>\n",
       "      <td>0</td>\n",
       "      <td>0</td>\n",
       "      <td>0</td>\n",
       "      <td>0</td>\n",
       "      <td>0</td>\n",
       "      <td>0</td>\n",
       "      <td>0</td>\n",
       "      <td>0</td>\n",
       "      <td>0</td>\n",
       "      <td>0</td>\n",
       "    </tr>\n",
       "    <tr>\n",
       "      <th>2</th>\n",
       "      <td>10546824832088319728</td>\n",
       "      <td>3451485117888180206</td>\n",
       "      <td>4.0</td>\n",
       "      <td>716</td>\n",
       "      <td>msk</td>\n",
       "      <td>msk</td>\n",
       "      <td>500.0</td>\n",
       "      <td>4.576063</td>\n",
       "      <td>Кафе</td>\n",
       "      <td>1</td>\n",
       "      <td>...</td>\n",
       "      <td>0</td>\n",
       "      <td>0</td>\n",
       "      <td>0</td>\n",
       "      <td>0</td>\n",
       "      <td>0</td>\n",
       "      <td>0</td>\n",
       "      <td>0</td>\n",
       "      <td>0</td>\n",
       "      <td>0</td>\n",
       "      <td>0</td>\n",
       "    </tr>\n",
       "    <tr>\n",
       "      <th>3</th>\n",
       "      <td>9967742981458207920</td>\n",
       "      <td>9490041040735762889</td>\n",
       "      <td>3.0</td>\n",
       "      <td>639</td>\n",
       "      <td>spb</td>\n",
       "      <td>spb</td>\n",
       "      <td>1000.0</td>\n",
       "      <td>3.775701</td>\n",
       "      <td>Кафе</td>\n",
       "      <td>1</td>\n",
       "      <td>...</td>\n",
       "      <td>0</td>\n",
       "      <td>0</td>\n",
       "      <td>0</td>\n",
       "      <td>0</td>\n",
       "      <td>0</td>\n",
       "      <td>0</td>\n",
       "      <td>0</td>\n",
       "      <td>0</td>\n",
       "      <td>0</td>\n",
       "      <td>0</td>\n",
       "    </tr>\n",
       "    <tr>\n",
       "      <th>4</th>\n",
       "      <td>11046819495825038093</td>\n",
       "      <td>5234254278902729372</td>\n",
       "      <td>5.0</td>\n",
       "      <td>669</td>\n",
       "      <td>msk</td>\n",
       "      <td>msk</td>\n",
       "      <td>500.0</td>\n",
       "      <td>4.187500</td>\n",
       "      <td>Пиццерия</td>\n",
       "      <td>1</td>\n",
       "      <td>...</td>\n",
       "      <td>0</td>\n",
       "      <td>1</td>\n",
       "      <td>0</td>\n",
       "      <td>0</td>\n",
       "      <td>0</td>\n",
       "      <td>0</td>\n",
       "      <td>0</td>\n",
       "      <td>0</td>\n",
       "      <td>0</td>\n",
       "      <td>0</td>\n",
       "    </tr>\n",
       "  </tbody>\n",
       "</table>\n",
       "<p>5 rows × 72 columns</p>\n",
       "</div>\n",
       "      <button class=\"colab-df-convert\" onclick=\"convertToInteractive('df-34865ced-0f06-4017-80d8-fa98a4fa1db7')\"\n",
       "              title=\"Convert this dataframe to an interactive table.\"\n",
       "              style=\"display:none;\">\n",
       "        \n",
       "  <svg xmlns=\"http://www.w3.org/2000/svg\" height=\"24px\"viewBox=\"0 0 24 24\"\n",
       "       width=\"24px\">\n",
       "    <path d=\"M0 0h24v24H0V0z\" fill=\"none\"/>\n",
       "    <path d=\"M18.56 5.44l.94 2.06.94-2.06 2.06-.94-2.06-.94-.94-2.06-.94 2.06-2.06.94zm-11 1L8.5 8.5l.94-2.06 2.06-.94-2.06-.94L8.5 2.5l-.94 2.06-2.06.94zm10 10l.94 2.06.94-2.06 2.06-.94-2.06-.94-.94-2.06-.94 2.06-2.06.94z\"/><path d=\"M17.41 7.96l-1.37-1.37c-.4-.4-.92-.59-1.43-.59-.52 0-1.04.2-1.43.59L10.3 9.45l-7.72 7.72c-.78.78-.78 2.05 0 2.83L4 21.41c.39.39.9.59 1.41.59.51 0 1.02-.2 1.41-.59l7.78-7.78 2.81-2.81c.8-.78.8-2.07 0-2.86zM5.41 20L4 18.59l7.72-7.72 1.47 1.35L5.41 20z\"/>\n",
       "  </svg>\n",
       "      </button>\n",
       "      \n",
       "  <style>\n",
       "    .colab-df-container {\n",
       "      display:flex;\n",
       "      flex-wrap:wrap;\n",
       "      gap: 12px;\n",
       "    }\n",
       "\n",
       "    .colab-df-convert {\n",
       "      background-color: #E8F0FE;\n",
       "      border: none;\n",
       "      border-radius: 50%;\n",
       "      cursor: pointer;\n",
       "      display: none;\n",
       "      fill: #1967D2;\n",
       "      height: 32px;\n",
       "      padding: 0 0 0 0;\n",
       "      width: 32px;\n",
       "    }\n",
       "\n",
       "    .colab-df-convert:hover {\n",
       "      background-color: #E2EBFA;\n",
       "      box-shadow: 0px 1px 2px rgba(60, 64, 67, 0.3), 0px 1px 3px 1px rgba(60, 64, 67, 0.15);\n",
       "      fill: #174EA6;\n",
       "    }\n",
       "\n",
       "    [theme=dark] .colab-df-convert {\n",
       "      background-color: #3B4455;\n",
       "      fill: #D2E3FC;\n",
       "    }\n",
       "\n",
       "    [theme=dark] .colab-df-convert:hover {\n",
       "      background-color: #434B5C;\n",
       "      box-shadow: 0px 1px 3px 1px rgba(0, 0, 0, 0.15);\n",
       "      filter: drop-shadow(0px 1px 2px rgba(0, 0, 0, 0.3));\n",
       "      fill: #FFFFFF;\n",
       "    }\n",
       "  </style>\n",
       "\n",
       "      <script>\n",
       "        const buttonEl =\n",
       "          document.querySelector('#df-34865ced-0f06-4017-80d8-fa98a4fa1db7 button.colab-df-convert');\n",
       "        buttonEl.style.display =\n",
       "          google.colab.kernel.accessAllowed ? 'block' : 'none';\n",
       "\n",
       "        async function convertToInteractive(key) {\n",
       "          const element = document.querySelector('#df-34865ced-0f06-4017-80d8-fa98a4fa1db7');\n",
       "          const dataTable =\n",
       "            await google.colab.kernel.invokeFunction('convertToInteractive',\n",
       "                                                     [key], {});\n",
       "          if (!dataTable) return;\n",
       "\n",
       "          const docLinkHtml = 'Like what you see? Visit the ' +\n",
       "            '<a target=\"_blank\" href=https://colab.research.google.com/notebooks/data_table.ipynb>data table notebook</a>'\n",
       "            + ' to learn more about interactive tables.';\n",
       "          element.innerHTML = '';\n",
       "          dataTable['output_type'] = 'display_data';\n",
       "          await google.colab.output.renderOutput(dataTable, element);\n",
       "          const docLink = document.createElement('div');\n",
       "          docLink.innerHTML = docLinkHtml;\n",
       "          element.appendChild(docLink);\n",
       "        }\n",
       "      </script>\n",
       "    </div>\n",
       "  </div>\n",
       "  "
      ],
      "text/plain": [
       "                user_id                org_id  rating   ts user_city org_city  \\\n",
       "0  12182789761588196310  11946401375069641937     4.0  677       msk      msk   \n",
       "1   2796544982129273287   5545859981678495568     5.0  577       msk      msk   \n",
       "2  10546824832088319728   3451485117888180206     4.0  716       msk      msk   \n",
       "3   9967742981458207920   9490041040735762889     3.0  639       spb      spb   \n",
       "4  11046819495825038093   5234254278902729372     5.0  669       msk      msk   \n",
       "\n",
       "   average_bill  rating_org   rubrics  food_delivery  ...  call_button  \\\n",
       "0        1500.0    3.883212  Ресторан              1  ...            0   \n",
       "1        1000.0    4.495379  Ресторан              1  ...            0   \n",
       "2         500.0    4.576063      Кафе              1  ...            0   \n",
       "3        1000.0    3.775701      Кафе              1  ...            0   \n",
       "4         500.0    4.187500  Пиццерия              1  ...            0   \n",
       "\n",
       "   wheelchair_accessible  table_games  vinotheque  \\\n",
       "0                      0            0           0   \n",
       "1                      0            0           0   \n",
       "2                      0            0           0   \n",
       "3                      0            0           0   \n",
       "4                      1            0           0   \n",
       "\n",
       "   cakes_for_different_occasions  accepted_credit_cards  kalyan  teahouse  \\\n",
       "0                              0                      0       0         0   \n",
       "1                              0                      0       0         0   \n",
       "2                              0                      0       0         0   \n",
       "3                              0                      0       0         0   \n",
       "4                              0                      0       0         0   \n",
       "\n",
       "   bread_from_tandoor  handmade_goods  \n",
       "0                   0               0  \n",
       "1                   0               0  \n",
       "2                   0               0  \n",
       "3                   0               0  \n",
       "4                   0               0  \n",
       "\n",
       "[5 rows x 72 columns]"
      ]
     },
     "execution_count": 10,
     "metadata": {},
     "output_type": "execute_result"
    }
   ],
   "source": [
    "train.head()"
   ]
  },
  {
   "cell_type": "markdown",
   "metadata": {
    "id": "z64zzip4-q06"
   },
   "source": [
    "### 1) Пропуски"
   ]
  },
  {
   "cell_type": "markdown",
   "metadata": {
    "id": "ysNiAOKzArm9"
   },
   "source": [
    "Пропуски есть только в столбце average_bill, зато их целых 39%.\n",
    "\n",
    "Что с ними делать - сходу непонятно :(\n",
    "\n",
    "Заменим на среднее, чтож..."
   ]
  },
  {
   "cell_type": "code",
   "execution_count": 11,
   "metadata": {
    "colab": {
     "base_uri": "https://localhost:8080/"
    },
    "id": "oDo2TIPg-xPh",
    "outputId": "ce368e1b-5694-40fd-bbf9-2668d46ee516"
   },
   "outputs": [
    {
     "data": {
      "text/plain": [
       "['average_bill']"
      ]
     },
     "execution_count": 11,
     "metadata": {},
     "output_type": "execute_result"
    }
   ],
   "source": [
    "train.columns[train.isna().any()].tolist()"
   ]
  },
  {
   "cell_type": "code",
   "execution_count": 12,
   "metadata": {
    "colab": {
     "base_uri": "https://localhost:8080/"
    },
    "id": "nn9l0_C1AAR-",
    "outputId": "73023e0e-cc96-4317-f14a-c46fdab87c6f"
   },
   "outputs": [
    {
     "data": {
      "text/plain": [
       "0.38599905399013446"
      ]
     },
     "execution_count": 12,
     "metadata": {},
     "output_type": "execute_result"
    }
   ],
   "source": [
    "train.average_bill.isna().sum() / train.average_bill.size"
   ]
  },
  {
   "cell_type": "code",
   "execution_count": 13,
   "metadata": {
    "colab": {
     "base_uri": "https://localhost:8080/",
     "height": 282
    },
    "id": "giWYwDlO_Cbi",
    "outputId": "be5871f0-5b09-4593-aa00-0b45315c10a4"
   },
   "outputs": [
    {
     "name": "stdout",
     "output_type": "stream",
     "text": [
      "mean = 1075.891972795105 500.0\n"
     ]
    },
    {
     "data": {
      "image/png": "[encoded data removed]",
      "text/plain": [
       "<Figure size 432x288 with 1 Axes>"
      ]
     },
     "metadata": {
      "needs_background": "light"
     },
     "output_type": "display_data"
    }
   ],
   "source": [
    "print(\"mean =\", train.average_bill.mean(), train.average_bill.median())\n",
    "plt.boxplot(train.dropna().average_bill, vert=False)\n",
    "plt.show()"
   ]
  },
  {
   "cell_type": "code",
   "execution_count": 14,
   "metadata": {
    "colab": {
     "base_uri": "https://localhost:8080/",
     "height": 265
    },
    "id": "MgOrX61xFWdH",
    "outputId": "0a76c9ce-17b9-4c2a-c0ff-6a637435d222"
   },
   "outputs": [
    {
     "data": {
      "image/png": "[encoded data removed]",
      "text/plain": [
       "<Figure size 432x288 with 1 Axes>"
      ]
     },
     "metadata": {
      "needs_background": "light"
     },
     "output_type": "display_data"
    }
   ],
   "source": [
    "from scipy import stats\n",
    "\n",
    "def remove_outlier(df_in, col_name):\n",
    "    q1 = df_in[col_name].quantile(0.01)\n",
    "    q3 = df_in[col_name].quantile(0.99)\n",
    "    df_out = df_in.loc[(df_in[col_name] < q3) & (df_in[col_name] > q1)]\n",
    "    return df_out\n",
    "\n",
    "plt.boxplot(remove_outlier(train, \"average_bill\").average_bill, vert=False)\n",
    "plt.show()"
   ]
  },
  {
   "cell_type": "markdown",
   "metadata": {
    "id": "kwrOaiO6-7-5"
   },
   "source": [
    "### 2) Нечисленные признаки"
   ]
  },
  {
   "cell_type": "markdown",
   "metadata": {
    "id": "vLPcPdQO40U1"
   },
   "source": [
    "Заметим, что почти все признаки являются численными.\n",
    "\n",
    "Рассмотрим нечисленные признаки:\n",
    "\n",
    "1) поле user_city принимает только 2 возможных значения - msk и spb, для удобства дальнейшей работы создадим новую bool колонку user_from_msk\n",
    "\n",
    "2) с полем org_city поступим аналогично\n",
    "\n",
    "NB: возможно, стоит создать колонку (user_from_msk && org_from_msk)\n",
    "\n",
    "3) поле rubrics: для самых часто-встречаемых признаков выделим отдельные булевские колонки"
   ]
  },
  {
   "cell_type": "code",
   "execution_count": 15,
   "metadata": {
    "colab": {
     "base_uri": "https://localhost:8080/",
     "height": 206
    },
    "id": "83XNc2bC4g5Z",
    "outputId": "c4565fec-98ed-4fa2-aeac-05da1041728f"
   },
   "outputs": [
    {
     "data": {
      "text/html": [
       "\n",
       "  <div id=\"df-53d558ba-0f28-4112-bab8-890be6850c3f\">\n",
       "    <div class=\"colab-df-container\">\n",
       "      <div>\n",
       "<style scoped>\n",
       "    .dataframe tbody tr th:only-of-type {\n",
       "        vertical-align: middle;\n",
       "    }\n",
       "\n",
       "    .dataframe tbody tr th {\n",
       "        vertical-align: top;\n",
       "    }\n",
       "\n",
       "    .dataframe thead th {\n",
       "        text-align: right;\n",
       "    }\n",
       "</style>\n",
       "<table border=\"1\" class=\"dataframe\">\n",
       "  <thead>\n",
       "    <tr style=\"text-align: right;\">\n",
       "      <th></th>\n",
       "      <th>user_city</th>\n",
       "      <th>org_city</th>\n",
       "      <th>rubrics</th>\n",
       "    </tr>\n",
       "  </thead>\n",
       "  <tbody>\n",
       "    <tr>\n",
       "      <th>0</th>\n",
       "      <td>msk</td>\n",
       "      <td>msk</td>\n",
       "      <td>Ресторан</td>\n",
       "    </tr>\n",
       "    <tr>\n",
       "      <th>1</th>\n",
       "      <td>msk</td>\n",
       "      <td>msk</td>\n",
       "      <td>Ресторан</td>\n",
       "    </tr>\n",
       "    <tr>\n",
       "      <th>2</th>\n",
       "      <td>msk</td>\n",
       "      <td>msk</td>\n",
       "      <td>Кафе</td>\n",
       "    </tr>\n",
       "    <tr>\n",
       "      <th>3</th>\n",
       "      <td>spb</td>\n",
       "      <td>spb</td>\n",
       "      <td>Кафе</td>\n",
       "    </tr>\n",
       "    <tr>\n",
       "      <th>4</th>\n",
       "      <td>msk</td>\n",
       "      <td>msk</td>\n",
       "      <td>Пиццерия</td>\n",
       "    </tr>\n",
       "  </tbody>\n",
       "</table>\n",
       "</div>\n",
       "      <button class=\"colab-df-convert\" onclick=\"convertToInteractive('df-53d558ba-0f28-4112-bab8-890be6850c3f')\"\n",
       "              title=\"Convert this dataframe to an interactive table.\"\n",
       "              style=\"display:none;\">\n",
       "        \n",
       "  <svg xmlns=\"http://www.w3.org/2000/svg\" height=\"24px\"viewBox=\"0 0 24 24\"\n",
       "       width=\"24px\">\n",
       "    <path d=\"M0 0h24v24H0V0z\" fill=\"none\"/>\n",
       "    <path d=\"M18.56 5.44l.94 2.06.94-2.06 2.06-.94-2.06-.94-.94-2.06-.94 2.06-2.06.94zm-11 1L8.5 8.5l.94-2.06 2.06-.94-2.06-.94L8.5 2.5l-.94 2.06-2.06.94zm10 10l.94 2.06.94-2.06 2.06-.94-2.06-.94-.94-2.06-.94 2.06-2.06.94z\"/><path d=\"M17.41 7.96l-1.37-1.37c-.4-.4-.92-.59-1.43-.59-.52 0-1.04.2-1.43.59L10.3 9.45l-7.72 7.72c-.78.78-.78 2.05 0 2.83L4 21.41c.39.39.9.59 1.41.59.51 0 1.02-.2 1.41-.59l7.78-7.78 2.81-2.81c.8-.78.8-2.07 0-2.86zM5.41 20L4 18.59l7.72-7.72 1.47 1.35L5.41 20z\"/>\n",
       "  </svg>\n",
       "      </button>\n",
       "      \n",
       "  <style>\n",
       "    .colab-df-container {\n",
       "      display:flex;\n",
       "      flex-wrap:wrap;\n",
       "      gap: 12px;\n",
       "    }\n",
       "\n",
       "    .colab-df-convert {\n",
       "      background-color: #E8F0FE;\n",
       "      border: none;\n",
       "      border-radius: 50%;\n",
       "      cursor: pointer;\n",
       "      display: none;\n",
       "      fill: #1967D2;\n",
       "      height: 32px;\n",
       "      padding: 0 0 0 0;\n",
       "      width: 32px;\n",
       "    }\n",
       "\n",
       "    .colab-df-convert:hover {\n",
       "      background-color: #E2EBFA;\n",
       "      box-shadow: 0px 1px 2px rgba(60, 64, 67, 0.3), 0px 1px 3px 1px rgba(60, 64, 67, 0.15);\n",
       "      fill: #174EA6;\n",
       "    }\n",
       "\n",
       "    [theme=dark] .colab-df-convert {\n",
       "      background-color: #3B4455;\n",
       "      fill: #D2E3FC;\n",
       "    }\n",
       "\n",
       "    [theme=dark] .colab-df-convert:hover {\n",
       "      background-color: #434B5C;\n",
       "      box-shadow: 0px 1px 3px 1px rgba(0, 0, 0, 0.15);\n",
       "      filter: drop-shadow(0px 1px 2px rgba(0, 0, 0, 0.3));\n",
       "      fill: #FFFFFF;\n",
       "    }\n",
       "  </style>\n",
       "\n",
       "      <script>\n",
       "        const buttonEl =\n",
       "          document.querySelector('#df-53d558ba-0f28-4112-bab8-890be6850c3f button.colab-df-convert');\n",
       "        buttonEl.style.display =\n",
       "          google.colab.kernel.accessAllowed ? 'block' : 'none';\n",
       "\n",
       "        async function convertToInteractive(key) {\n",
       "          const element = document.querySelector('#df-53d558ba-0f28-4112-bab8-890be6850c3f');\n",
       "          const dataTable =\n",
       "            await google.colab.kernel.invokeFunction('convertToInteractive',\n",
       "                                                     [key], {});\n",
       "          if (!dataTable) return;\n",
       "\n",
       "          const docLinkHtml = 'Like what you see? Visit the ' +\n",
       "            '<a target=\"_blank\" href=https://colab.research.google.com/notebooks/data_table.ipynb>data table notebook</a>'\n",
       "            + ' to learn more about interactive tables.';\n",
       "          element.innerHTML = '';\n",
       "          dataTable['output_type'] = 'display_data';\n",
       "          await google.colab.output.renderOutput(dataTable, element);\n",
       "          const docLink = document.createElement('div');\n",
       "          docLink.innerHTML = docLinkHtml;\n",
       "          element.appendChild(docLink);\n",
       "        }\n",
       "      </script>\n",
       "    </div>\n",
       "  </div>\n",
       "  "
      ],
      "text/plain": [
       "  user_city org_city   rubrics\n",
       "0       msk      msk  Ресторан\n",
       "1       msk      msk  Ресторан\n",
       "2       msk      msk      Кафе\n",
       "3       spb      spb      Кафе\n",
       "4       msk      msk  Пиццерия"
      ]
     },
     "execution_count": 15,
     "metadata": {},
     "output_type": "execute_result"
    }
   ],
   "source": [
    "train.select_dtypes(exclude=[np.number])[:5]"
   ]
  },
  {
   "cell_type": "code",
   "execution_count": 16,
   "metadata": {
    "colab": {
     "base_uri": "https://localhost:8080/"
    },
    "id": "S4jGcgfu7_hW",
    "outputId": "ff70199e-1bd7-4162-94f0-8d300f37fae9"
   },
   "outputs": [
    {
     "name": "stdout",
     "output_type": "stream",
     "text": [
      "user city = ['msk' 'spb']\n",
      "org city = ['msk' 'spb']\n",
      "rubrics = ['Ресторан' 'Кафе' 'Пиццерия' 'Быстрое питание' 'Бар, паб' 'Кофейня'\n",
      " 'Кофе с собой' 'Булочная, пекарня' 'Кондитерская' 'Суши-бар' 'Кальян-бар'\n",
      " 'Спортбар' 'Столовая' 'Бар безалкогольных напитков']\n"
     ]
    }
   ],
   "source": [
    "print(\"user city =\", train.user_city.unique())\n",
    "print(\"org city =\", train.org_city.unique())\n",
    "print(\"rubrics =\", train.rubrics.unique())"
   ]
  },
  {
   "cell_type": "code",
   "execution_count": 17,
   "metadata": {
    "id": "YPXTSkhgVuF3"
   },
   "outputs": [],
   "source": [
    "most_popular_rubrics = list(train.rubrics.value_counts().keys()[:7])"
   ]
  },
  {
   "cell_type": "markdown",
   "metadata": {
    "id": "YbLkZVZOCCgk"
   },
   "source": [
    "### 3) Нормализация"
   ]
  },
  {
   "cell_type": "markdown",
   "metadata": {
    "id": "BKUKRf2ljNMt"
   },
   "source": [
    "### Итоговая функция трансформации датасета"
   ]
  },
  {
   "cell_type": "code",
   "execution_count": 18,
   "metadata": {
    "id": "r4XP8HoQjVQ3"
   },
   "outputs": [],
   "source": [
    "from sklearn import preprocessing\n",
    "\n",
    "def add_columns(df):\n",
    "  df['user_from_msk'] = df.apply(lambda row: 1 if row.user_city == 'msk' else 0, axis=1)\n",
    "  df['org_from_msk'] = df.apply(lambda row: 1 if row.org_city == 'msk' else 0, axis=1)\n",
    "  df['from_the_same_city'] = df.apply(lambda row: 1 \n",
    "                                            if row.user_from_msk + row.org_from_msk != 1 \n",
    "                                            else 0, axis=1)\n",
    "  \n",
    "  df['low_price'] = df.apply(lambda row: 1 if row.average_bill < 500 else 0, axis=1)\n",
    "  df['middle_price'] = df.apply(lambda row: 1 if row.average_bill >= 500 and row.average_bill < 1000 else 0, axis=1)\n",
    "  df['height_price'] = df.apply(lambda row: 1 if row.average_bill >= 1000 and row.average_bill < 1500 else 0, axis=1)\n",
    "\n",
    "  for rbr in most_popular_rubrics:\n",
    "    df[rbr] = df.apply(lambda row: 1 if row.rubrics == rbr else 0, axis=1)\n",
    "\n",
    "def transform_df(df_old):\n",
    "  df = df_old.copy()\n",
    "  df.average_bill.fillna(df.average_bill.mean(), inplace=True)\n",
    "  add_columns(df)\n",
    "\n",
    "  df.drop(columns=['user_city', 'org_city', 'rubrics', 'user_id', 'org_id'], inplace=True)\n",
    "\n",
    "  # нормализация\n",
    "  for col_name in ['rating', 'average_bill', 'ts']:\n",
    "    max_value = df[col_name].max()\n",
    "    min_value = df[col_name].min()\n",
    "    df[col_name] = (df[col_name] - min_value) / (max_value - min_value)\n",
    "\n",
    "  return df"
   ]
  },
  {
   "cell_type": "code",
   "execution_count": 19,
   "metadata": {
    "colab": {
     "base_uri": "https://localhost:8080/",
     "height": 317
    },
    "id": "nbnPGrcTj5OU",
    "outputId": "ea9b1f27-d998-4ce2-a7b9-e0badbdee83b"
   },
   "outputs": [
    {
     "data": {
      "text/html": [
       "\n",
       "  <div id=\"df-82452b67-b02e-4ecb-aa85-0c2b4ddcfb92\">\n",
       "    <div class=\"colab-df-container\">\n",
       "      <div>\n",
       "<style scoped>\n",
       "    .dataframe tbody tr th:only-of-type {\n",
       "        vertical-align: middle;\n",
       "    }\n",
       "\n",
       "    .dataframe tbody tr th {\n",
       "        vertical-align: top;\n",
       "    }\n",
       "\n",
       "    .dataframe thead th {\n",
       "        text-align: right;\n",
       "    }\n",
       "</style>\n",
       "<table border=\"1\" class=\"dataframe\">\n",
       "  <thead>\n",
       "    <tr style=\"text-align: right;\">\n",
       "      <th></th>\n",
       "      <th>rating</th>\n",
       "      <th>ts</th>\n",
       "      <th>average_bill</th>\n",
       "      <th>rating_org</th>\n",
       "      <th>food_delivery</th>\n",
       "      <th>breakfast</th>\n",
       "      <th>takeaway</th>\n",
       "      <th>summer_terrace</th>\n",
       "      <th>wi_fi</th>\n",
       "      <th>business_lunch</th>\n",
       "      <th>...</th>\n",
       "      <th>low_price</th>\n",
       "      <th>middle_price</th>\n",
       "      <th>height_price</th>\n",
       "      <th>Ресторан</th>\n",
       "      <th>Кафе</th>\n",
       "      <th>Быстрое питание</th>\n",
       "      <th>Бар, паб</th>\n",
       "      <th>Кофейня</th>\n",
       "      <th>Кондитерская</th>\n",
       "      <th>Пиццерия</th>\n",
       "    </tr>\n",
       "  </thead>\n",
       "  <tbody>\n",
       "    <tr>\n",
       "      <th>0</th>\n",
       "      <td>0.75</td>\n",
       "      <td>0.556743</td>\n",
       "      <td>0.004065</td>\n",
       "      <td>3.883212</td>\n",
       "      <td>1</td>\n",
       "      <td>1</td>\n",
       "      <td>1</td>\n",
       "      <td>0</td>\n",
       "      <td>1</td>\n",
       "      <td>1</td>\n",
       "      <td>...</td>\n",
       "      <td>0</td>\n",
       "      <td>0</td>\n",
       "      <td>0</td>\n",
       "      <td>1</td>\n",
       "      <td>0</td>\n",
       "      <td>0</td>\n",
       "      <td>0</td>\n",
       "      <td>0</td>\n",
       "      <td>0</td>\n",
       "      <td>0</td>\n",
       "    </tr>\n",
       "    <tr>\n",
       "      <th>1</th>\n",
       "      <td>1.00</td>\n",
       "      <td>0.474507</td>\n",
       "      <td>0.002033</td>\n",
       "      <td>4.495379</td>\n",
       "      <td>1</td>\n",
       "      <td>0</td>\n",
       "      <td>1</td>\n",
       "      <td>1</td>\n",
       "      <td>1</td>\n",
       "      <td>1</td>\n",
       "      <td>...</td>\n",
       "      <td>0</td>\n",
       "      <td>0</td>\n",
       "      <td>1</td>\n",
       "      <td>1</td>\n",
       "      <td>0</td>\n",
       "      <td>0</td>\n",
       "      <td>0</td>\n",
       "      <td>0</td>\n",
       "      <td>0</td>\n",
       "      <td>0</td>\n",
       "    </tr>\n",
       "    <tr>\n",
       "      <th>2</th>\n",
       "      <td>0.75</td>\n",
       "      <td>0.588816</td>\n",
       "      <td>0.000000</td>\n",
       "      <td>4.576063</td>\n",
       "      <td>1</td>\n",
       "      <td>1</td>\n",
       "      <td>1</td>\n",
       "      <td>1</td>\n",
       "      <td>1</td>\n",
       "      <td>1</td>\n",
       "      <td>...</td>\n",
       "      <td>0</td>\n",
       "      <td>1</td>\n",
       "      <td>0</td>\n",
       "      <td>0</td>\n",
       "      <td>1</td>\n",
       "      <td>0</td>\n",
       "      <td>0</td>\n",
       "      <td>0</td>\n",
       "      <td>0</td>\n",
       "      <td>0</td>\n",
       "    </tr>\n",
       "    <tr>\n",
       "      <th>3</th>\n",
       "      <td>0.50</td>\n",
       "      <td>0.525493</td>\n",
       "      <td>0.002033</td>\n",
       "      <td>3.775701</td>\n",
       "      <td>1</td>\n",
       "      <td>1</td>\n",
       "      <td>1</td>\n",
       "      <td>1</td>\n",
       "      <td>1</td>\n",
       "      <td>1</td>\n",
       "      <td>...</td>\n",
       "      <td>0</td>\n",
       "      <td>0</td>\n",
       "      <td>1</td>\n",
       "      <td>0</td>\n",
       "      <td>1</td>\n",
       "      <td>0</td>\n",
       "      <td>0</td>\n",
       "      <td>0</td>\n",
       "      <td>0</td>\n",
       "      <td>0</td>\n",
       "    </tr>\n",
       "    <tr>\n",
       "      <th>4</th>\n",
       "      <td>1.00</td>\n",
       "      <td>0.550164</td>\n",
       "      <td>0.000000</td>\n",
       "      <td>4.187500</td>\n",
       "      <td>1</td>\n",
       "      <td>1</td>\n",
       "      <td>1</td>\n",
       "      <td>1</td>\n",
       "      <td>1</td>\n",
       "      <td>1</td>\n",
       "      <td>...</td>\n",
       "      <td>0</td>\n",
       "      <td>1</td>\n",
       "      <td>0</td>\n",
       "      <td>0</td>\n",
       "      <td>0</td>\n",
       "      <td>0</td>\n",
       "      <td>0</td>\n",
       "      <td>0</td>\n",
       "      <td>0</td>\n",
       "      <td>1</td>\n",
       "    </tr>\n",
       "  </tbody>\n",
       "</table>\n",
       "<p>5 rows × 80 columns</p>\n",
       "</div>\n",
       "      <button class=\"colab-df-convert\" onclick=\"convertToInteractive('df-82452b67-b02e-4ecb-aa85-0c2b4ddcfb92')\"\n",
       "              title=\"Convert this dataframe to an interactive table.\"\n",
       "              style=\"display:none;\">\n",
       "        \n",
       "  <svg xmlns=\"http://www.w3.org/2000/svg\" height=\"24px\"viewBox=\"0 0 24 24\"\n",
       "       width=\"24px\">\n",
       "    <path d=\"M0 0h24v24H0V0z\" fill=\"none\"/>\n",
       "    <path d=\"M18.56 5.44l.94 2.06.94-2.06 2.06-.94-2.06-.94-.94-2.06-.94 2.06-2.06.94zm-11 1L8.5 8.5l.94-2.06 2.06-.94-2.06-.94L8.5 2.5l-.94 2.06-2.06.94zm10 10l.94 2.06.94-2.06 2.06-.94-2.06-.94-.94-2.06-.94 2.06-2.06.94z\"/><path d=\"M17.41 7.96l-1.37-1.37c-.4-.4-.92-.59-1.43-.59-.52 0-1.04.2-1.43.59L10.3 9.45l-7.72 7.72c-.78.78-.78 2.05 0 2.83L4 21.41c.39.39.9.59 1.41.59.51 0 1.02-.2 1.41-.59l7.78-7.78 2.81-2.81c.8-.78.8-2.07 0-2.86zM5.41 20L4 18.59l7.72-7.72 1.47 1.35L5.41 20z\"/>\n",
       "  </svg>\n",
       "      </button>\n",
       "      \n",
       "  <style>\n",
       "    .colab-df-container {\n",
       "      display:flex;\n",
       "      flex-wrap:wrap;\n",
       "      gap: 12px;\n",
       "    }\n",
       "\n",
       "    .colab-df-convert {\n",
       "      background-color: #E8F0FE;\n",
       "      border: none;\n",
       "      border-radius: 50%;\n",
       "      cursor: pointer;\n",
       "      display: none;\n",
       "      fill: #1967D2;\n",
       "      height: 32px;\n",
       "      padding: 0 0 0 0;\n",
       "      width: 32px;\n",
       "    }\n",
       "\n",
       "    .colab-df-convert:hover {\n",
       "      background-color: #E2EBFA;\n",
       "      box-shadow: 0px 1px 2px rgba(60, 64, 67, 0.3), 0px 1px 3px 1px rgba(60, 64, 67, 0.15);\n",
       "      fill: #174EA6;\n",
       "    }\n",
       "\n",
       "    [theme=dark] .colab-df-convert {\n",
       "      background-color: #3B4455;\n",
       "      fill: #D2E3FC;\n",
       "    }\n",
       "\n",
       "    [theme=dark] .colab-df-convert:hover {\n",
       "      background-color: #434B5C;\n",
       "      box-shadow: 0px 1px 3px 1px rgba(0, 0, 0, 0.15);\n",
       "      filter: drop-shadow(0px 1px 2px rgba(0, 0, 0, 0.3));\n",
       "      fill: #FFFFFF;\n",
       "    }\n",
       "  </style>\n",
       "\n",
       "      <script>\n",
       "        const buttonEl =\n",
       "          document.querySelector('#df-82452b67-b02e-4ecb-aa85-0c2b4ddcfb92 button.colab-df-convert');\n",
       "        buttonEl.style.display =\n",
       "          google.colab.kernel.accessAllowed ? 'block' : 'none';\n",
       "\n",
       "        async function convertToInteractive(key) {\n",
       "          const element = document.querySelector('#df-82452b67-b02e-4ecb-aa85-0c2b4ddcfb92');\n",
       "          const dataTable =\n",
       "            await google.colab.kernel.invokeFunction('convertToInteractive',\n",
       "                                                     [key], {});\n",
       "          if (!dataTable) return;\n",
       "\n",
       "          const docLinkHtml = 'Like what you see? Visit the ' +\n",
       "            '<a target=\"_blank\" href=https://colab.research.google.com/notebooks/data_table.ipynb>data table notebook</a>'\n",
       "            + ' to learn more about interactive tables.';\n",
       "          element.innerHTML = '';\n",
       "          dataTable['output_type'] = 'display_data';\n",
       "          await google.colab.output.renderOutput(dataTable, element);\n",
       "          const docLink = document.createElement('div');\n",
       "          docLink.innerHTML = docLinkHtml;\n",
       "          element.appendChild(docLink);\n",
       "        }\n",
       "      </script>\n",
       "    </div>\n",
       "  </div>\n",
       "  "
      ],
      "text/plain": [
       "   rating        ts  average_bill  rating_org  food_delivery  breakfast  \\\n",
       "0    0.75  0.556743      0.004065    3.883212              1          1   \n",
       "1    1.00  0.474507      0.002033    4.495379              1          0   \n",
       "2    0.75  0.588816      0.000000    4.576063              1          1   \n",
       "3    0.50  0.525493      0.002033    3.775701              1          1   \n",
       "4    1.00  0.550164      0.000000    4.187500              1          1   \n",
       "\n",
       "   takeaway  summer_terrace  wi_fi  business_lunch  ...  low_price  \\\n",
       "0         1               0      1               1  ...          0   \n",
       "1         1               1      1               1  ...          0   \n",
       "2         1               1      1               1  ...          0   \n",
       "3         1               1      1               1  ...          0   \n",
       "4         1               1      1               1  ...          0   \n",
       "\n",
       "   middle_price  height_price  Ресторан  Кафе  Быстрое питание  Бар, паб  \\\n",
       "0             0             0         1     0                0         0   \n",
       "1             0             1         1     0                0         0   \n",
       "2             1             0         0     1                0         0   \n",
       "3             0             1         0     1                0         0   \n",
       "4             1             0         0     0                0         0   \n",
       "\n",
       "   Кофейня  Кондитерская  Пиццерия  \n",
       "0        0             0         0  \n",
       "1        0             0         0  \n",
       "2        0             0         0  \n",
       "3        0             0         0  \n",
       "4        0             0         1  \n",
       "\n",
       "[5 rows x 80 columns]"
      ]
     },
     "execution_count": 19,
     "metadata": {},
     "output_type": "execute_result"
    }
   ],
   "source": [
    "train_transformed = transform_df(train)\n",
    "\n",
    "test_transformed = transform_df(test)\n",
    "train_transformed.head()"
   ]
  },
  {
   "cell_type": "markdown",
   "metadata": {
    "id": "tBgA6fziuXmP"
   },
   "source": [
    "# Корреляция"
   ]
  },
  {
   "cell_type": "markdown",
   "metadata": {
    "id": "2LuCmmIQkkL7"
   },
   "source": [
    "Будем передавать в алгоритм только признаки, коэффициент корреляции rating_org с которыми больше 5%."
   ]
  },
  {
   "cell_type": "code",
   "execution_count": 20,
   "metadata": {
    "colab": {
     "base_uri": "https://localhost:8080/"
    },
    "id": "I9RsX0xGuWwF",
    "outputId": "5e31d851-c3f8-444a-bc24-6a69043fef49"
   },
   "outputs": [
    {
     "name": "stdout",
     "output_type": "stream",
     "text": [
      "rating                    0.269386\n",
      "cafe                      0.181062\n",
      "toilet_for_disabled       0.173958\n",
      "parking_disabled          0.167170\n",
      "payment_by_credit_card    0.154419\n",
      "                            ...   \n",
      "free_delivery            -0.072332\n",
      "middle_price             -0.102564\n",
      "food_delivery            -0.105047\n",
      "Быстрое питание          -0.183910\n",
      "low_price                      NaN\n",
      "Name: rating_org, Length: 79, dtype: float64\n",
      "['rating', 'cafe', 'toilet_for_disabled', 'parking_disabled', 'payment_by_credit_card', 'automatic_door', 'wheelchair_access', 'car_park', 'craft_beer', 'gift_certificate', 'Кофейня', 'sports_broadcasts', 'privilege_tickets', 'projector', 'wi_fi', 'Ресторан', 'food_product_delivery', 'karaoke', 'farm_products', 'organic_food', 'table_games', 'promotions', 'takeaway', 'elevator_wheelchair_accessible', 'Бар, паб', 'music', 'from_the_same_city', 'minimum_order', 'self_service_kiosks', 'free_delivery', 'middle_price', 'food_delivery', 'Быстрое питание']\n"
     ]
    }
   ],
   "source": [
    "train = train_transformed\n",
    "test = test_transformed\n",
    "\n",
    "corr = train.corr()['rating_org'].sort_values(ascending=False)[1:]\n",
    "print(corr)\n",
    "\n",
    "significant_attr_names = list(key for (key, value) in corr.items() if abs(value) >= 0.05)\n",
    "print(significant_attr_names)\n",
    "train_filtered = train[significant_attr_names]\n",
    "\n",
    "test_filtered = test[significant_attr_names]"
   ]
  },
  {
   "cell_type": "markdown",
   "metadata": {
    "id": "PBW4LS7YsKkO"
   },
   "source": [
    "#kNN"
   ]
  },
  {
   "cell_type": "code",
   "execution_count": 21,
   "metadata": {
    "id": "4w3FNmbIqjOt"
   },
   "outputs": [],
   "source": [
    "from sklearn.neighbors import KNeighborsRegressor\n",
    "from sklearn.model_selection import GridSearchCV\n",
    "from sklearn.metrics import mean_absolute_percentage_error\n",
    "from sklearn.model_selection import train_test_split"
   ]
  },
  {
   "cell_type": "code",
   "execution_count": 22,
   "metadata": {
    "id": "rDj1LwD0nH15"
   },
   "outputs": [],
   "source": [
    "# Y_train = train.rating_org\n",
    "# X_train = train_filtered\n",
    "\n",
    "test_size = 0.2\n",
    "\n",
    "Y_train = train_test_split(train, test_size = test_size)[0].rating_org\n",
    "X_train = train_test_split(train_filtered, test_size = test_size)[0]"
   ]
  },
  {
   "cell_type": "code",
   "execution_count": 23,
   "metadata": {
    "colab": {
     "base_uri": "https://localhost:8080/"
    },
    "id": "xN0fSTYx1Ras",
    "outputId": "a951ce95-48ce-46fc-9dd1-bf249a0ca6d6"
   },
   "outputs": [
    {
     "data": {
      "text/plain": [
       "KNeighborsRegressor(n_neighbors=22)"
      ]
     },
     "execution_count": 23,
     "metadata": {},
     "output_type": "execute_result"
    }
   ],
   "source": [
    "# подберем наилучшее значение n_neighbors\n",
    "# g = GridSearchCV(KNeighborsRegressor(), { \"n_neighbors\" : [5, 7, 11, 15, 17, 16, 22] })\n",
    "# g.best_params_\n",
    "# {'n_neighbors': 22}\n",
    "\n",
    "g = KNeighborsRegressor(n_neighbors=22)\n",
    "g.fit(X_train.values, Y_train.values)"
   ]
  },
  {
   "cell_type": "code",
   "execution_count": 24,
   "metadata": {
    "colab": {
     "base_uri": "https://localhost:8080/"
    },
    "id": "J0avxRnhTc9v",
    "outputId": "19fe094c-9708-47f8-ae31-442070723bd9"
   },
   "outputs": [
    {
     "name": "stderr",
     "output_type": "stream",
     "text": [
      "/usr/local/lib/python3.7/dist-packages/sklearn/base.py:444: UserWarning: X has feature names, but KNeighborsRegressor was fitted without feature names\n",
      "  f\"X has feature names, but {self.__class__.__name__} was fitted without\"\n"
     ]
    }
   ],
   "source": [
    "train_predictions = g.predict(train_test_split(train_filtered, test_size = test_size)[1])"
   ]
  },
  {
   "cell_type": "code",
   "execution_count": 32,
   "metadata": {
    "colab": {
     "base_uri": "https://localhost:8080/"
    },
    "id": "hhv_ggvWUfE2",
    "outputId": "39e3bf4a-0e83-4523-d469-65d7891147a3"
   },
   "outputs": [
    {
     "data": {
      "text/plain": [
       "0.05285312475730688"
      ]
     },
     "execution_count": 32,
     "metadata": {},
     "output_type": "execute_result"
    }
   ],
   "source": [
    "_, test_ = train_test_split(train, test_size = test_size)\n",
    "mean_absolute_percentage_error(train_predictions, test_.rating_org)"
   ]
  },
  {
   "cell_type": "markdown",
   "metadata": {
    "id": "T5LAweRHWYHK"
   },
   "source": [
    "### Предсказания для test"
   ]
  },
  {
   "cell_type": "code",
   "execution_count": 26,
   "metadata": {
    "colab": {
     "base_uri": "https://localhost:8080/"
    },
    "id": "5eL_rjAsWisz",
    "outputId": "66bb5626-350b-4d81-b971-5563b4582459"
   },
   "outputs": [
    {
     "metadata": {
      "tags": null
     },
     "name": "stderr",
     "output_type": "stream",
     "text": [
      "/usr/local/lib/python3.7/dist-packages/sklearn/base.py:444: UserWarning: X has feature names, but KNeighborsRegressor was fitted without feature names\n",
      "  f\"X has feature names, but {self.__class__.__name__} was fitted without\"\n"
     ]
    }
   ],
   "source": [
    "reg = g\n",
    "final_pred = reg.predict(test_filtered)\n",
    "\n",
    "result = pd.DataFrame({'id': test_filtered.index, 'rating_org': final_pred})\n",
    "result.set_index('id', inplace = True)"
   ]
  },
  {
   "cell_type": "code",
   "execution_count": 27,
   "metadata": {
    "colab": {
     "base_uri": "https://localhost:8080/"
    },
    "id": "qOxjBlRFB2ij",
    "outputId": "8e2c7f4f-0649-4c48-98fc-1c949d28abb8"
   },
   "outputs": [
    {
     "metadata": {
      "tags": null
     },
     "name": "stdout",
     "output_type": "stream",
     "text": [
      "24665\n"
     ]
    }
   ],
   "source": [
    "import os \n",
    "version = 5\n",
    "dir = 'submission' + str(version)\n",
    "os.makedirs(dir, exist_ok=True)  \n",
    "print(len(result))\n",
    "result.to_csv(dir + '/submission' + str(version) + \".csv\") "
   ]
  }
 ],
 "metadata": {
  "colab": {
   "provenance": []
  },
  "kernelspec": {
   "display_name": "Python 3",
   "language": "python",
   "name": "python3"
  },
  "language_info": {
   "codemirror_mode": {
    "name": "ipython",
    "version": 3
   },
   "file_extension": ".py",
   "mimetype": "text/x-python",
   "name": "python",
   "nbconvert_exporter": "python",
   "pygments_lexer": "ipython3",
   "version": "3.7.0"
  }
 },
 "nbformat": 4,
 "nbformat_minor": 1
}
